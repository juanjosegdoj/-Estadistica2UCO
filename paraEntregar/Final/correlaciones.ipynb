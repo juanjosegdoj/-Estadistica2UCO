{
 "cells": [
  {
   "cell_type": "markdown",
   "metadata": {},
   "source": [
    "# ¿Cómo es la emisión de contaminantes de los países europeos desde el año 2004 a 2015 y cómo es la correlación con la generación de energía y de bioenergía (biomasa)?"
   ]
  },
  {
   "cell_type": "code",
   "execution_count": 98,
   "metadata": {},
   "outputs": [],
   "source": [
    "import pandas as pd\n",
    "import numpy as np\n",
    "from string import ascii_letters\n",
    "import numpy as np\n",
    "import seaborn as sns\n",
    "import matplotlib.pyplot as plt"
   ]
  },
  {
   "cell_type": "code",
   "execution_count": 99,
   "metadata": {},
   "outputs": [],
   "source": [
    "df = pd.read_excel(\"Euro.Emisiones.Generaciones.xlsx\")"
   ]
  },
  {
   "cell_type": "code",
   "execution_count": 100,
   "metadata": {},
   "outputs": [],
   "source": [
    "# Elminando algunas columnas\n",
    "del df['Unique_Plant_ID']\n",
    "del df['PlantName']\n",
    "del df['Refineries']\n",
    "del df['OtherSector']\n",
    "del df['ReferenceYear']"
   ]
  },
  {
   "cell_type": "code",
   "execution_count": 101,
   "metadata": {},
   "outputs": [
    {
     "data": {
      "text/html": [
       "<div>\n",
       "<style scoped>\n",
       "    .dataframe tbody tr th:only-of-type {\n",
       "        vertical-align: middle;\n",
       "    }\n",
       "\n",
       "    .dataframe tbody tr th {\n",
       "        vertical-align: top;\n",
       "    }\n",
       "\n",
       "    .dataframe thead th {\n",
       "        text-align: right;\n",
       "    }\n",
       "</style>\n",
       "<table border=\"1\" class=\"dataframe\">\n",
       "  <thead>\n",
       "    <tr style=\"text-align: right;\">\n",
       "      <th></th>\n",
       "      <th>MemberState</th>\n",
       "      <th>MWth</th>\n",
       "      <th>Biomass</th>\n",
       "      <th>OtherSolidFuels</th>\n",
       "      <th>LiquidFuels</th>\n",
       "      <th>NaturalGas</th>\n",
       "      <th>OtherGases</th>\n",
       "      <th>SO2</th>\n",
       "      <th>NOx</th>\n",
       "      <th>Dust</th>\n",
       "    </tr>\n",
       "  </thead>\n",
       "  <tbody>\n",
       "    <tr>\n",
       "      <th>0</th>\n",
       "      <td>UK</td>\n",
       "      <td>220.0</td>\n",
       "      <td>0.000</td>\n",
       "      <td>0.00</td>\n",
       "      <td>0.000</td>\n",
       "      <td>3339.40400</td>\n",
       "      <td>618.0780</td>\n",
       "      <td>6.000</td>\n",
       "      <td>140.00</td>\n",
       "      <td>0.00</td>\n",
       "    </tr>\n",
       "    <tr>\n",
       "      <th>1</th>\n",
       "      <td>UK</td>\n",
       "      <td>86.0</td>\n",
       "      <td>0.000</td>\n",
       "      <td>0.00</td>\n",
       "      <td>0.000</td>\n",
       "      <td>0.00000</td>\n",
       "      <td>693.3324</td>\n",
       "      <td>63.900</td>\n",
       "      <td>78.10</td>\n",
       "      <td>0.89</td>\n",
       "    </tr>\n",
       "    <tr>\n",
       "      <th>2</th>\n",
       "      <td>UK</td>\n",
       "      <td>315.0</td>\n",
       "      <td>0.000</td>\n",
       "      <td>0.00</td>\n",
       "      <td>3214.526</td>\n",
       "      <td>0.00000</td>\n",
       "      <td>3418.9920</td>\n",
       "      <td>716.000</td>\n",
       "      <td>283.00</td>\n",
       "      <td>30.00</td>\n",
       "    </tr>\n",
       "    <tr>\n",
       "      <th>3</th>\n",
       "      <td>UK</td>\n",
       "      <td>211.0</td>\n",
       "      <td>0.000</td>\n",
       "      <td>0.00</td>\n",
       "      <td>1171.325</td>\n",
       "      <td>0.00000</td>\n",
       "      <td>3130.6130</td>\n",
       "      <td>1099.000</td>\n",
       "      <td>488.00</td>\n",
       "      <td>0.00</td>\n",
       "    </tr>\n",
       "    <tr>\n",
       "      <th>4</th>\n",
       "      <td>UK</td>\n",
       "      <td>172.0</td>\n",
       "      <td>0.000</td>\n",
       "      <td>0.00</td>\n",
       "      <td>1655.478</td>\n",
       "      <td>0.00000</td>\n",
       "      <td>2976.7540</td>\n",
       "      <td>1187.000</td>\n",
       "      <td>586.00</td>\n",
       "      <td>53.00</td>\n",
       "    </tr>\n",
       "    <tr>\n",
       "      <th>5</th>\n",
       "      <td>UK</td>\n",
       "      <td>110.0</td>\n",
       "      <td>0.000</td>\n",
       "      <td>0.00</td>\n",
       "      <td>0.000</td>\n",
       "      <td>0.00000</td>\n",
       "      <td>0.0000</td>\n",
       "      <td>13.860</td>\n",
       "      <td>38.40</td>\n",
       "      <td>0.00</td>\n",
       "    </tr>\n",
       "    <tr>\n",
       "      <th>6</th>\n",
       "      <td>UK</td>\n",
       "      <td>98.0</td>\n",
       "      <td>0.000</td>\n",
       "      <td>0.00</td>\n",
       "      <td>0.259</td>\n",
       "      <td>4128.11300</td>\n",
       "      <td>0.0000</td>\n",
       "      <td>0.059</td>\n",
       "      <td>16.00</td>\n",
       "      <td>0.00</td>\n",
       "    </tr>\n",
       "    <tr>\n",
       "      <th>7</th>\n",
       "      <td>AT</td>\n",
       "      <td>221.0</td>\n",
       "      <td>0.000</td>\n",
       "      <td>0.00</td>\n",
       "      <td>0.000</td>\n",
       "      <td>756.20932</td>\n",
       "      <td>0.0000</td>\n",
       "      <td>0.000</td>\n",
       "      <td>42.17</td>\n",
       "      <td>0.00</td>\n",
       "    </tr>\n",
       "    <tr>\n",
       "      <th>8</th>\n",
       "      <td>UK</td>\n",
       "      <td>270.0</td>\n",
       "      <td>1791.765</td>\n",
       "      <td>2486.52</td>\n",
       "      <td>0.717</td>\n",
       "      <td>826.49500</td>\n",
       "      <td>0.0000</td>\n",
       "      <td>11.900</td>\n",
       "      <td>266.10</td>\n",
       "      <td>21.90</td>\n",
       "    </tr>\n",
       "    <tr>\n",
       "      <th>9</th>\n",
       "      <td>UK</td>\n",
       "      <td>80.0</td>\n",
       "      <td>0.000</td>\n",
       "      <td>0.00</td>\n",
       "      <td>1.386</td>\n",
       "      <td>1724.31000</td>\n",
       "      <td>2.5020</td>\n",
       "      <td>0.110</td>\n",
       "      <td>106.00</td>\n",
       "      <td>0.00</td>\n",
       "    </tr>\n",
       "  </tbody>\n",
       "</table>\n",
       "</div>"
      ],
      "text/plain": [
       "  MemberState   MWth   Biomass  OtherSolidFuels  LiquidFuels  NaturalGas  \\\n",
       "0          UK  220.0     0.000             0.00        0.000  3339.40400   \n",
       "1          UK   86.0     0.000             0.00        0.000     0.00000   \n",
       "2          UK  315.0     0.000             0.00     3214.526     0.00000   \n",
       "3          UK  211.0     0.000             0.00     1171.325     0.00000   \n",
       "4          UK  172.0     0.000             0.00     1655.478     0.00000   \n",
       "5          UK  110.0     0.000             0.00        0.000     0.00000   \n",
       "6          UK   98.0     0.000             0.00        0.259  4128.11300   \n",
       "7          AT  221.0     0.000             0.00        0.000   756.20932   \n",
       "8          UK  270.0  1791.765          2486.52        0.717   826.49500   \n",
       "9          UK   80.0     0.000             0.00        1.386  1724.31000   \n",
       "\n",
       "   OtherGases       SO2     NOx   Dust  \n",
       "0    618.0780     6.000  140.00   0.00  \n",
       "1    693.3324    63.900   78.10   0.89  \n",
       "2   3418.9920   716.000  283.00  30.00  \n",
       "3   3130.6130  1099.000  488.00   0.00  \n",
       "4   2976.7540  1187.000  586.00  53.00  \n",
       "5      0.0000    13.860   38.40   0.00  \n",
       "6      0.0000     0.059   16.00   0.00  \n",
       "7      0.0000     0.000   42.17   0.00  \n",
       "8      0.0000    11.900  266.10  21.90  \n",
       "9      2.5020     0.110  106.00   0.00  "
      ]
     },
     "execution_count": 101,
     "metadata": {},
     "output_type": "execute_result"
    }
   ],
   "source": [
    "df.head(10)"
   ]
  },
  {
   "cell_type": "markdown",
   "metadata": {},
   "source": [
    "### ¿La producción de energía (MWth) aumenta la contaminación?"
   ]
  },
  {
   "cell_type": "markdown",
   "metadata": {},
   "source": [
    "Como se puede observar en la correlación al aumentar la energía también está aumentando la contaminación en los diferentes países, siendo el NOx el que más se dispara cuando se aumenta la producción de energía."
   ]
  },
  {
   "cell_type": "code",
   "execution_count": 102,
   "metadata": {},
   "outputs": [
    {
     "data": {
      "text/plain": [
       "<matplotlib.axes._subplots.AxesSubplot at 0x252f81bc630>"
      ]
     },
     "execution_count": 102,
     "metadata": {},
     "output_type": "execute_result"
    },
    {
     "data": {
      "image/png": "[encoded data removed]",
      "text/plain": [
       "<Figure size 432x288 with 2 Axes>"
      ]
     },
     "metadata": {},
     "output_type": "display_data"
    }
   ],
   "source": [
    "corr = df[[ 'MWth', 'SO2','NOx', \"Dust\"]].corr()\n",
    "\n",
    "mask = np.zeros_like(corr, dtype=np.bool)\n",
    "mask[np.triu_indices_from(mask)] = True\n",
    "sns.heatmap(corr, mask=mask,  vmax=1.0, center=0,linewidths=0)"
   ]
  },
  {
   "cell_type": "markdown",
   "metadata": {},
   "source": [
    "### ¿La producción de Bioenergía (Biomasa) aumenta la contaminación?"
   ]
  },
  {
   "cell_type": "markdown",
   "metadata": {},
   "source": [
    "Como se observa la producción de Biomasa también tiene efectos en la contaminación, pero en comparación a la producción de energía tiene menos efectos muchos menos significativos, con lo cual se puede concluir bajo esta observación la importancia de usar Bioenergía siendo esta más amigable con el medio ambiente."
   ]
  },
  {
   "cell_type": "code",
   "execution_count": 108,
   "metadata": {},
   "outputs": [
    {
     "data": {
      "text/plain": [
       "<matplotlib.axes._subplots.AxesSubplot at 0x252f84ecc18>"
      ]
     },
     "execution_count": 108,
     "metadata": {},
     "output_type": "execute_result"
    },
    {
     "data": {
      "image/png": "[encoded data removed]",
      "text/plain": [
       "<Figure size 432x288 with 2 Axes>"
      ]
     },
     "metadata": {},
     "output_type": "display_data"
    }
   ],
   "source": [
    "corr = df[['Biomass', 'SO2','NOx', \"Dust\"]].corr()\n",
    "\n",
    "mask = np.zeros_like(corr, dtype=np.bool)\n",
    "mask[np.triu_indices_from(mask)] = True\n",
    "sns.heatmap(corr, mask=mask,  vmax=1.0, center=0,linewidths=0)"
   ]
  },
  {
   "cell_type": "markdown",
   "metadata": {},
   "source": [
    "Dentro de los combustibles que más proporcionan energía los países se encuentran \"Otros Sólidos Combustibles\""
   ]
  },
  {
   "cell_type": "code",
   "execution_count": 104,
   "metadata": {},
   "outputs": [
    {
     "data": {
      "text/plain": [
       "<matplotlib.axes._subplots.AxesSubplot at 0x252f6e3ee80>"
      ]
     },
     "execution_count": 104,
     "metadata": {},
     "output_type": "execute_result"
    },
    {
     "data": {
      "image/png": "[encoded data removed]",
      "text/plain": [
       "<Figure size 432x288 with 2 Axes>"
      ]
     },
     "metadata": {},
     "output_type": "display_data"
    }
   ],
   "source": [
    "\n",
    "corr = df[['MWth', 'Biomass', 'OtherSolidFuels', 'LiquidFuels', 'NaturalGas', 'OtherGases']].corr()\n",
    "\n",
    "\n",
    "mask = np.zeros_like(corr, dtype=np.bool)\n",
    "mask[np.triu_indices_from(mask)] = True\n",
    "sns.heatmap(corr, mask=mask,  vmax=1.0, center=0,linewidths=0)"
   ]
  },
  {
   "cell_type": "code",
   "execution_count": null,
   "metadata": {},
   "outputs": [],
   "source": []
  }
 ],
 "metadata": {
  "kernelspec": {
   "display_name": "Python 3",
   "language": "python",
   "name": "python3"
  },
  "language_info": {
   "codemirror_mode": {
    "name": "ipython",
    "version": 3
   },
   "file_extension": ".py",
   "mimetype": "text/x-python",
   "name": "python",
   "nbconvert_exporter": "python",
   "pygments_lexer": "ipython3",
   "version": "3.6.5"
  }
 },
 "nbformat": 4,
 "nbformat_minor": 2
}
