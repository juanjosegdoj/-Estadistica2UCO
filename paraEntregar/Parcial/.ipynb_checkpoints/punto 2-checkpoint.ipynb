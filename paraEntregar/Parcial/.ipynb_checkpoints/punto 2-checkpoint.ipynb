{
 "cells": [
  {
   "cell_type": "code",
   "execution_count": 79,
   "metadata": {},
   "outputs": [],
   "source": [
    "import pandas as pd\n",
    "import matplotlib.pyplot as plt\n",
    "import numpy as np\n",
    "from sklearn import linear_model\n",
    "from scipy import stats\n",
    "from sklearn.metrics import mean_squared_error, r2_score"
   ]
  },
  {
   "cell_type": "code",
   "execution_count": 87,
   "metadata": {},
   "outputs": [
    {
     "data": {
      "text/html": [
       "<div>\n",
       "<style scoped>\n",
       "    .dataframe tbody tr th:only-of-type {\n",
       "        vertical-align: middle;\n",
       "    }\n",
       "\n",
       "    .dataframe tbody tr th {\n",
       "        vertical-align: top;\n",
       "    }\n",
       "\n",
       "    .dataframe thead th {\n",
       "        text-align: right;\n",
       "    }\n",
       "</style>\n",
       "<table border=\"1\" class=\"dataframe\">\n",
       "  <thead>\n",
       "    <tr style=\"text-align: right;\">\n",
       "      <th></th>\n",
       "      <th>RPM</th>\n",
       "      <th>Octanos Combustible</th>\n",
       "      <th>Rata Compresion</th>\n",
       "      <th>Potencia</th>\n",
       "    </tr>\n",
       "  </thead>\n",
       "  <tbody>\n",
       "    <tr>\n",
       "      <th>0</th>\n",
       "      <td>2000</td>\n",
       "      <td>92.66</td>\n",
       "      <td>100</td>\n",
       "      <td>227.66</td>\n",
       "    </tr>\n",
       "    <tr>\n",
       "      <th>1</th>\n",
       "      <td>1800</td>\n",
       "      <td>96.66</td>\n",
       "      <td>95</td>\n",
       "      <td>214.66</td>\n",
       "    </tr>\n",
       "    <tr>\n",
       "      <th>2</th>\n",
       "      <td>2400</td>\n",
       "      <td>90.66</td>\n",
       "      <td>110</td>\n",
       "      <td>231.66</td>\n",
       "    </tr>\n",
       "    <tr>\n",
       "      <th>3</th>\n",
       "      <td>1900</td>\n",
       "      <td>93.66</td>\n",
       "      <td>96</td>\n",
       "      <td>224.66</td>\n",
       "    </tr>\n",
       "    <tr>\n",
       "      <th>4</th>\n",
       "      <td>1600</td>\n",
       "      <td>88.66</td>\n",
       "      <td>100</td>\n",
       "      <td>221.66</td>\n",
       "    </tr>\n",
       "  </tbody>\n",
       "</table>\n",
       "</div>"
      ],
      "text/plain": [
       "    RPM  Octanos Combustible  Rata Compresion  Potencia\n",
       "0  2000                92.66              100    227.66\n",
       "1  1800                96.66               95    214.66\n",
       "2  2400                90.66              110    231.66\n",
       "3  1900                93.66               96    224.66\n",
       "4  1600                88.66              100    221.66"
      ]
     },
     "execution_count": 87,
     "metadata": {},
     "output_type": "execute_result"
    }
   ],
   "source": [
    "dataMotor = pd.read_csv('libro2.csv')\n",
    "dataMotor.head()"
   ]
  },
  {
   "cell_type": "code",
   "execution_count": 88,
   "metadata": {},
   "outputs": [
    {
     "data": {
      "text/html": [
       "<div>\n",
       "<style scoped>\n",
       "    .dataframe tbody tr th:only-of-type {\n",
       "        vertical-align: middle;\n",
       "    }\n",
       "\n",
       "    .dataframe tbody tr th {\n",
       "        vertical-align: top;\n",
       "    }\n",
       "\n",
       "    .dataframe thead th {\n",
       "        text-align: right;\n",
       "    }\n",
       "</style>\n",
       "<table border=\"1\" class=\"dataframe\">\n",
       "  <thead>\n",
       "    <tr style=\"text-align: right;\">\n",
       "      <th></th>\n",
       "      <th>RPM</th>\n",
       "      <th>Octanos Combustible</th>\n",
       "      <th>Rata Compresion</th>\n",
       "      <th>Potencia</th>\n",
       "    </tr>\n",
       "  </thead>\n",
       "  <tbody>\n",
       "    <tr>\n",
       "      <th>RPM</th>\n",
       "      <td>1.000000</td>\n",
       "      <td>-0.083383</td>\n",
       "      <td>0.123374</td>\n",
       "      <td>0.398281</td>\n",
       "    </tr>\n",
       "    <tr>\n",
       "      <th>Octanos Combustible</th>\n",
       "      <td>-0.083383</td>\n",
       "      <td>1.000000</td>\n",
       "      <td>-0.011077</td>\n",
       "      <td>0.545856</td>\n",
       "    </tr>\n",
       "    <tr>\n",
       "      <th>Rata Compresion</th>\n",
       "      <td>0.123374</td>\n",
       "      <td>-0.011077</td>\n",
       "      <td>1.000000</td>\n",
       "      <td>0.605737</td>\n",
       "    </tr>\n",
       "    <tr>\n",
       "      <th>Potencia</th>\n",
       "      <td>0.398281</td>\n",
       "      <td>0.545856</td>\n",
       "      <td>0.605737</td>\n",
       "      <td>1.000000</td>\n",
       "    </tr>\n",
       "  </tbody>\n",
       "</table>\n",
       "</div>"
      ],
      "text/plain": [
       "                          RPM  Octanos Combustible  Rata Compresion  Potencia\n",
       "RPM                  1.000000            -0.083383         0.123374  0.398281\n",
       "Octanos Combustible -0.083383             1.000000        -0.011077  0.545856\n",
       "Rata Compresion      0.123374            -0.011077         1.000000  0.605737\n",
       "Potencia             0.398281             0.545856         0.605737  1.000000"
      ]
     },
     "execution_count": 88,
     "metadata": {},
     "output_type": "execute_result"
    }
   ],
   "source": [
    "dataMotor.corr()"
   ]
  },
  {
   "cell_type": "markdown",
   "metadata": {},
   "source": [
    "**CONCLUSIÓN DE CORRELACIÓN**\n",
    "\n",
    "Como se puede observar todos los datos en la última conlumna que es la relación de todos los datos con respecto a la potencia, la tendencia de los datos es directa con lo cual podemos afirmar que al aumentar el RPM, los octanos de combustible y la rata Compresión, los patencia también aumentará, aunque claramente hay valores que tienen más fuerza en la relación.\n"
   ]
  },
  {
   "cell_type": "code",
   "execution_count": 89,
   "metadata": {},
   "outputs": [],
   "source": [
    "# Use only one feature\n",
    "dataMotor_X = dataMotor[[\"RPM\", \"Octanos Combustible\", \"Rata Compresion\"]]\n",
    "dataMotor_Y = dataMotor[[\"Potencia\"]]"
   ]
  },
  {
   "cell_type": "code",
   "execution_count": 90,
   "metadata": {},
   "outputs": [],
   "source": [
    "# Create linear regression object\n",
    "regr = linear_model.LinearRegression()\n",
    "\n",
    "# Train the model using the training sets\n",
    "regr.fit(dataMotor_X, dataMotor_Y)\n",
    "\n",
    "# Make predictions using the testing set\n",
    "potencia_pred = regr.predict(dataMotor_X)"
   ]
  },
  {
   "cell_type": "code",
   "execution_count": 91,
   "metadata": {},
   "outputs": [
    {
     "name": "stdout",
     "output_type": "stream",
     "text": [
      "Intercept: \n",
      " [-269.0816853]\n",
      "Coefficients: \n",
      " [[0.01075434 3.04419429 1.92855914]]\n",
      "Mean squared error: 50.46\n",
      "Variance score: 0.81\n"
     ]
    }
   ],
   "source": [
    "# The coefficients\n",
    "print('Intercept: \\n', regr.intercept_)\n",
    "print('Coefficients: \\n', regr.coef_)\n",
    "# The mean squared error\n",
    "print(\"Mean squared error: %.2f\"\n",
    "      % mean_squared_error(dataMotor_Y, potencia_pred))\n",
    "\n",
    "# Explained variance score: 1 is perfect prediction\n",
    "print('Variance score: %.2f' % r2_score(dataMotor_Y, potencia_pred ))"
   ]
  },
  {
   "cell_type": "markdown",
   "metadata": {},
   "source": [
    "**CONCLUSION DEL MODELO**\n",
    "\n",
    "$ Potencia = {-269.0816853 + 0.01075434·RPM + 3.04419429·OctanosCombustible + 1.92855914·RataCompresion} $\n",
    "    \n",
    "$ R^{2} = 0.81 $\n",
    "    \n",
    "$ Durbin-Watson: 1.304 > 0.05 $ Cumple con el primer supuesto\n",
    "\n",
    "Puedo decir que el modelo es verdaderamente predictivo porque cumple con los supuestos, además hay un $ R^{2} $ muy alto que puede explicar el 81% de los datos \n",
    "    "
   ]
  },
  {
   "cell_type": "code",
   "execution_count": 92,
   "metadata": {},
   "outputs": [
    {
     "data": {
      "text/plain": [
       "(220, 265)"
      ]
     },
     "execution_count": 92,
     "metadata": {},
     "output_type": "execute_result"
    },
    {
     "data": {
      "image/png": "[encoded data removed]",
      "text/plain": [
       "<Figure size 432x288 with 1 Axes>"
      ]
     },
     "metadata": {},
     "output_type": "display_data"
    }
   ],
   "source": [
    "plt.scatter(potencia_pred, dataMotor_Y)\n",
    "plt.xlim(220, 280)\n",
    "plt.ylim(220, 265)"
   ]
  },
  {
   "cell_type": "markdown",
   "metadata": {},
   "source": [
    "Como se puede observar en el gráfico el modelo es adecuado porque generalmente siguen una linea recta con una pendiente de 1"
   ]
  },
  {
   "cell_type": "markdown",
   "metadata": {},
   "source": [
    "\n"
   ]
  },
  {
   "cell_type": "code",
   "execution_count": 93,
   "metadata": {},
   "outputs": [
    {
     "ename": "NameError",
     "evalue": "name 'duracion_t1' is not defined",
     "output_type": "error",
     "traceback": [
      "\u001b[1;31m---------------------------------------------------------------------------\u001b[0m",
      "\u001b[1;31mNameError\u001b[0m                                 Traceback (most recent call last)",
      "\u001b[1;32m<ipython-input-93-1aead7d561d5>\u001b[0m in \u001b[0;36m<module>\u001b[1;34m()\u001b[0m\n\u001b[1;32m----> 1\u001b[1;33m f, p = stats.f_oneway(duracion_t1,duracion_t2\n\u001b[0m\u001b[0;32m      2\u001b[0m                       ,duracion_t3)\n",
      "\u001b[1;31mNameError\u001b[0m: name 'duracion_t1' is not defined"
     ]
    }
   ],
   "source": [
    "f, p = stats.f_oneway()"
   ]
  },
  {
   "cell_type": "code",
   "execution_count": null,
   "metadata": {},
   "outputs": [],
   "source": [
    "print('Estadistico de prueba: {}'.format(f))\n",
    "print('Valor de P: {}'.format(p))"
   ]
  }
 ],
 "metadata": {
  "kernelspec": {
   "display_name": "Python 3",
   "language": "python",
   "name": "python3"
  },
  "language_info": {
   "codemirror_mode": {
    "name": "ipython",
    "version": 3
   },
   "file_extension": ".py",
   "mimetype": "text/x-python",
   "name": "python",
   "nbconvert_exporter": "python",
   "pygments_lexer": "ipython3",
   "version": "3.6.5"
  }
 },
 "nbformat": 4,
 "nbformat_minor": 2
}
