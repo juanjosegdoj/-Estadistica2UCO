{
 "cells": [
  {
   "cell_type": "code",
   "execution_count": 11,
   "metadata": {},
   "outputs": [],
   "source": [
    "import pandas as pd\n",
    "import matplotlib.pyplot as plt\n",
    "import numpy as np\n",
    "from sklearn import linear_model\n",
    "from scipy import stats\n",
    "from sklearn.metrics import mean_squared_error, r2_score"
   ]
  },
  {
   "cell_type": "code",
   "execution_count": 12,
   "metadata": {},
   "outputs": [
    {
     "data": {
      "text/html": [
       "<div>\n",
       "<style scoped>\n",
       "    .dataframe tbody tr th:only-of-type {\n",
       "        vertical-align: middle;\n",
       "    }\n",
       "\n",
       "    .dataframe tbody tr th {\n",
       "        vertical-align: top;\n",
       "    }\n",
       "\n",
       "    .dataframe thead th {\n",
       "        text-align: right;\n",
       "    }\n",
       "</style>\n",
       "<table border=\"1\" class=\"dataframe\">\n",
       "  <thead>\n",
       "    <tr style=\"text-align: right;\">\n",
       "      <th></th>\n",
       "      <th>RPM</th>\n",
       "      <th>Octanos Combustible</th>\n",
       "      <th>Rata Compresion</th>\n",
       "      <th>Potencia</th>\n",
       "    </tr>\n",
       "  </thead>\n",
       "  <tbody>\n",
       "    <tr>\n",
       "      <th>0</th>\n",
       "      <td>2000</td>\n",
       "      <td>92.66</td>\n",
       "      <td>100</td>\n",
       "      <td>227.66</td>\n",
       "    </tr>\n",
       "    <tr>\n",
       "      <th>1</th>\n",
       "      <td>1800</td>\n",
       "      <td>96.66</td>\n",
       "      <td>95</td>\n",
       "      <td>214.66</td>\n",
       "    </tr>\n",
       "    <tr>\n",
       "      <th>2</th>\n",
       "      <td>2400</td>\n",
       "      <td>90.66</td>\n",
       "      <td>110</td>\n",
       "      <td>231.66</td>\n",
       "    </tr>\n",
       "    <tr>\n",
       "      <th>3</th>\n",
       "      <td>1900</td>\n",
       "      <td>93.66</td>\n",
       "      <td>96</td>\n",
       "      <td>224.66</td>\n",
       "    </tr>\n",
       "    <tr>\n",
       "      <th>4</th>\n",
       "      <td>1600</td>\n",
       "      <td>88.66</td>\n",
       "      <td>100</td>\n",
       "      <td>221.66</td>\n",
       "    </tr>\n",
       "  </tbody>\n",
       "</table>\n",
       "</div>"
      ],
      "text/plain": [
       "    RPM  Octanos Combustible  Rata Compresion  Potencia\n",
       "0  2000                92.66              100    227.66\n",
       "1  1800                96.66               95    214.66\n",
       "2  2400                90.66              110    231.66\n",
       "3  1900                93.66               96    224.66\n",
       "4  1600                88.66              100    221.66"
      ]
     },
     "execution_count": 12,
     "metadata": {},
     "output_type": "execute_result"
    }
   ],
   "source": [
    "dataMotor = pd.read_csv('libro2.csv')\n",
    "dataMotor.head()"
   ]
  },
  {
   "cell_type": "code",
   "execution_count": 13,
   "metadata": {},
   "outputs": [
    {
     "data": {
      "text/html": [
       "<div>\n",
       "<style scoped>\n",
       "    .dataframe tbody tr th:only-of-type {\n",
       "        vertical-align: middle;\n",
       "    }\n",
       "\n",
       "    .dataframe tbody tr th {\n",
       "        vertical-align: top;\n",
       "    }\n",
       "\n",
       "    .dataframe thead th {\n",
       "        text-align: right;\n",
       "    }\n",
       "</style>\n",
       "<table border=\"1\" class=\"dataframe\">\n",
       "  <thead>\n",
       "    <tr style=\"text-align: right;\">\n",
       "      <th></th>\n",
       "      <th>RPM</th>\n",
       "      <th>Octanos Combustible</th>\n",
       "      <th>Rata Compresion</th>\n",
       "      <th>Potencia</th>\n",
       "    </tr>\n",
       "  </thead>\n",
       "  <tbody>\n",
       "    <tr>\n",
       "      <th>RPM</th>\n",
       "      <td>1.000000</td>\n",
       "      <td>-0.083383</td>\n",
       "      <td>0.123374</td>\n",
       "      <td>0.398281</td>\n",
       "    </tr>\n",
       "    <tr>\n",
       "      <th>Octanos Combustible</th>\n",
       "      <td>-0.083383</td>\n",
       "      <td>1.000000</td>\n",
       "      <td>-0.011077</td>\n",
       "      <td>0.545856</td>\n",
       "    </tr>\n",
       "    <tr>\n",
       "      <th>Rata Compresion</th>\n",
       "      <td>0.123374</td>\n",
       "      <td>-0.011077</td>\n",
       "      <td>1.000000</td>\n",
       "      <td>0.605737</td>\n",
       "    </tr>\n",
       "    <tr>\n",
       "      <th>Potencia</th>\n",
       "      <td>0.398281</td>\n",
       "      <td>0.545856</td>\n",
       "      <td>0.605737</td>\n",
       "      <td>1.000000</td>\n",
       "    </tr>\n",
       "  </tbody>\n",
       "</table>\n",
       "</div>"
      ],
      "text/plain": [
       "                          RPM  Octanos Combustible  Rata Compresion  Potencia\n",
       "RPM                  1.000000            -0.083383         0.123374  0.398281\n",
       "Octanos Combustible -0.083383             1.000000        -0.011077  0.545856\n",
       "Rata Compresion      0.123374            -0.011077         1.000000  0.605737\n",
       "Potencia             0.398281             0.545856         0.605737  1.000000"
      ]
     },
     "execution_count": 13,
     "metadata": {},
     "output_type": "execute_result"
    }
   ],
   "source": [
    "dataMotor.corr()"
   ]
  },
  {
   "cell_type": "markdown",
   "metadata": {},
   "source": [
    "**CONCLUSIÓN DE CORRELACIÓN**\n",
    "\n",
    "Como se puede observar todos los datos en la última conlumna que es la relación de todos los datos con respecto a la potencia, la tendencia de los datos es directa con lo cual podemos afirmar que al aumentar el RPM, los octanos de combustible y la rata Compresión, los patencia también aumentará, aunque claramente hay valores que tienen más fuerza en la relación.\n",
    "\n",
    "Correlación entre Potencia y RPM = 0.398281\n",
    "\n",
    "Correlación entre Potencia y Octanos de combustible =0.545856\n",
    "\n",
    "Correlación entre Potencia y Rata de compresion = 0.605737"
   ]
  },
  {
   "cell_type": "code",
   "execution_count": 14,
   "metadata": {},
   "outputs": [],
   "source": [
    "# Use only one feature\n",
    "dataMotor_X = dataMotor[[\"RPM\", \"Octanos Combustible\", \"Rata Compresion\"]]\n",
    "dataMotor_Y = dataMotor[[\"Potencia\"]]"
   ]
  },
  {
   "cell_type": "code",
   "execution_count": 15,
   "metadata": {},
   "outputs": [],
   "source": [
    "# Create linear regression object\n",
    "regr = linear_model.LinearRegression()\n",
    "\n",
    "# Train the model using the training sets\n",
    "regr.fit(dataMotor_X, dataMotor_Y)\n",
    "\n",
    "# Make predictions using the testing set\n",
    "potencia_pred = regr.predict(dataMotor_X)"
   ]
  },
  {
   "cell_type": "code",
   "execution_count": 16,
   "metadata": {},
   "outputs": [
    {
     "name": "stdout",
     "output_type": "stream",
     "text": [
      "Intercept: \n",
      " [-269.0816853]\n",
      "Coefficients: \n",
      " [[0.01075434 3.04419429 1.92855914]]\n",
      "Mean squared error: 50.46\n",
      "Variance score: 0.81\n"
     ]
    }
   ],
   "source": [
    "# The coefficients\n",
    "print('Intercept: \\n', regr.intercept_)\n",
    "print('Coefficients: \\n', regr.coef_)\n",
    "# The mean squared error\n",
    "print(\"Mean squared error: %.2f\"\n",
    "      % mean_squared_error(dataMotor_Y, potencia_pred))\n",
    "\n",
    "# Explained variance score: 1 is perfect prediction\n",
    "print('Variance score: %.2f' % r2_score(dataMotor_Y, potencia_pred ))"
   ]
  },
  {
   "cell_type": "markdown",
   "metadata": {},
   "source": [
    "**CONCLUSION DEL MODELO**\n",
    "\n",
    "$ Potencia = {-269.0816853 + 0.01075434·RPM + 3.04419429·OctanosCombustible + 1.92855914·RataCompresion} $\n",
    "    \n",
    "$ R^{2} = 0.81 $\n",
    "    \n",
    "$ Durbin-Watson: 1.304 > 0.05 $ Cumple con el primer supuesto\n",
    "\n",
    "Puedo decir que el modelo es verdaderamente predictivo porque cumple con los supuestos, además hay un $ R^{2} $ muy alto que puede explicar el 81% de los datos.\n",
    "    "
   ]
  },
  {
   "cell_type": "code",
   "execution_count": 17,
   "metadata": {},
   "outputs": [
    {
     "data": {
      "text/plain": [
       "(220, 265)"
      ]
     },
     "execution_count": 17,
     "metadata": {},
     "output_type": "execute_result"
    },
    {
     "data": {
      "image/png": "[encoded data removed]",
      "text/plain": [
       "<Figure size 432x288 with 1 Axes>"
      ]
     },
     "metadata": {},
     "output_type": "display_data"
    }
   ],
   "source": [
    "plt.scatter(potencia_pred, dataMotor_Y)\n",
    "plt.xlim(220, 280)\n",
    "plt.ylim(220, 265)"
   ]
  },
  {
   "cell_type": "markdown",
   "metadata": {},
   "source": [
    "Como se puede observar en el gráfico el modelo es adecuado porque generalmente siguen una linea recta con una pendiente de 1"
   ]
  },
  {
   "cell_type": "markdown",
   "metadata": {},
   "source": [
    "\n"
   ]
  },
  {
   "cell_type": "code",
   "execution_count": 18,
   "metadata": {},
   "outputs": [
    {
     "data": {
      "text/plain": [
       "(array([157.87153223]), array([1.63567881e-11]))"
      ]
     },
     "execution_count": 18,
     "metadata": {},
     "output_type": "execute_result"
    }
   ],
   "source": [
    "f_RPM, p_RPM = stats.f_oneway(dataMotor[[\"RPM\"]].values, dataMotor[[\"Potencia\"]].values)\n",
    "f_RPM, p_RPM"
   ]
  },
  {
   "cell_type": "code",
   "execution_count": 19,
   "metadata": {},
   "outputs": [
    {
     "data": {
      "text/plain": [
       "(array([793.91318714]), array([9.32817308e-19]))"
      ]
     },
     "execution_count": 19,
     "metadata": {},
     "output_type": "execute_result"
    }
   ],
   "source": [
    "f_OctComb, p_OctComb = stats.f_oneway(dataMotor[[\"Octanos Combustible\"]].values, dataMotor[[\"Potencia\"]].values)\n",
    "f_OctComb,p_OctComb"
   ]
  },
  {
   "cell_type": "code",
   "execution_count": 20,
   "metadata": {},
   "outputs": [
    {
     "data": {
      "text/plain": [
       "(array([668.66126294]), array([5.84742409e-18]))"
      ]
     },
     "execution_count": 20,
     "metadata": {},
     "output_type": "execute_result"
    }
   ],
   "source": [
    "f_ratCom, p_ratCom = stats.f_oneway(dataMotor[[\"Rata Compresion\"]].values, dataMotor[[\"Potencia\"]].values)\n",
    "f_ratCom, p_ratCom"
   ]
  },
  {
   "cell_type": "markdown",
   "metadata": {},
   "source": [
    "El orden de significancia con respecto a las variables que mejor explican la potencia del motor apoyado en la tabla ANOVA, es la siguiente:\n",
    "\n",
    "1. Rata Compresion:  $ valor_P = 5.84742409e-18 $\n",
    "\n",
    "2. Octanos Combustible: $ valor_P = 9.32817308e-19 $\n",
    "\n",
    "3. RPM: $ valor_P = 1.63567881e-11 $"
   ]
  },
  {
   "cell_type": "code",
   "execution_count": null,
   "metadata": {},
   "outputs": [],
   "source": []
  }
 ],
 "metadata": {
  "kernelspec": {
   "display_name": "Python 3",
   "language": "python",
   "name": "python3"
  },
  "language_info": {
   "codemirror_mode": {
    "name": "ipython",
    "version": 3
   },
   "file_extension": ".py",
   "mimetype": "text/x-python",
   "name": "python",
   "nbconvert_exporter": "python",
   "pygments_lexer": "ipython3",
   "version": "3.6.5"
  }
 },
 "nbformat": 4,
 "nbformat_minor": 2
}
