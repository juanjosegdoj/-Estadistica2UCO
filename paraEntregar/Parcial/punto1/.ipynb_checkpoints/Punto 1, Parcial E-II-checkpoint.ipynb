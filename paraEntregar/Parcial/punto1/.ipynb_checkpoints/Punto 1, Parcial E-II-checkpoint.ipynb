{
 "cells": [
  {
   "cell_type": "code",
   "execution_count": 126,
   "metadata": {},
   "outputs": [],
   "source": [
    "import pandas as pd\n",
    "import matplotlib.pyplot as plt\n",
    "import numpy as np\n",
    "import statsmodels.api as sm\n",
    "import statsmodels.formula.api as smf\n",
    "from statsmodels.stats.multicomp import pairwise_tukeyhsd, MultiComparison"
   ]
  },
  {
   "cell_type": "markdown",
   "metadata": {},
   "source": [
    "El departamento de calidad de textiles ZARI se encuentra estudiando el efecto del tiempo de ciclo, el operador y la temperatura de ciclo en la capacidad de tinturación del algodón usado para la manufactura de camisetas tipo polo. Las telas confeccionadas se comparan con el estándar y se asigna una calificación que indica cuánto se parece o no al mismo."
   ]
  },
  {
   "cell_type": "code",
   "execution_count": 21,
   "metadata": {},
   "outputs": [
    {
     "data": {
      "text/plain": [
       "(54, 4)"
      ]
     },
     "execution_count": 21,
     "metadata": {},
     "output_type": "execute_result"
    }
   ],
   "source": [
    "df = pd.read_excel('data_p-1.xlsx')\n",
    "df.shape"
   ]
  },
  {
   "cell_type": "code",
   "execution_count": 22,
   "metadata": {},
   "outputs": [
    {
     "data": {
      "text/html": [
       "<div>\n",
       "<style scoped>\n",
       "    .dataframe tbody tr th:only-of-type {\n",
       "        vertical-align: middle;\n",
       "    }\n",
       "\n",
       "    .dataframe tbody tr th {\n",
       "        vertical-align: top;\n",
       "    }\n",
       "\n",
       "    .dataframe thead th {\n",
       "        text-align: right;\n",
       "    }\n",
       "</style>\n",
       "<table border=\"1\" class=\"dataframe\">\n",
       "  <thead>\n",
       "    <tr style=\"text-align: right;\">\n",
       "      <th></th>\n",
       "      <th>operador</th>\n",
       "      <th>tiempo_ciclo</th>\n",
       "      <th>temperatura</th>\n",
       "      <th>calificacion</th>\n",
       "    </tr>\n",
       "  </thead>\n",
       "  <tbody>\n",
       "    <tr>\n",
       "      <th>0</th>\n",
       "      <td>1</td>\n",
       "      <td>42.667</td>\n",
       "      <td>300</td>\n",
       "      <td>25.67</td>\n",
       "    </tr>\n",
       "    <tr>\n",
       "      <th>1</th>\n",
       "      <td>1</td>\n",
       "      <td>42.667</td>\n",
       "      <td>300</td>\n",
       "      <td>26.67</td>\n",
       "    </tr>\n",
       "    <tr>\n",
       "      <th>2</th>\n",
       "      <td>1</td>\n",
       "      <td>42.667</td>\n",
       "      <td>300</td>\n",
       "      <td>27.67</td>\n",
       "    </tr>\n",
       "    <tr>\n",
       "      <th>3</th>\n",
       "      <td>1</td>\n",
       "      <td>52.667</td>\n",
       "      <td>300</td>\n",
       "      <td>38.67</td>\n",
       "    </tr>\n",
       "    <tr>\n",
       "      <th>4</th>\n",
       "      <td>1</td>\n",
       "      <td>52.667</td>\n",
       "      <td>300</td>\n",
       "      <td>37.67</td>\n",
       "    </tr>\n",
       "  </tbody>\n",
       "</table>\n",
       "</div>"
      ],
      "text/plain": [
       "   operador  tiempo_ciclo  temperatura  calificacion\n",
       "0         1        42.667          300         25.67\n",
       "1         1        42.667          300         26.67\n",
       "2         1        42.667          300         27.67\n",
       "3         1        52.667          300         38.67\n",
       "4         1        52.667          300         37.67"
      ]
     },
     "execution_count": 22,
     "metadata": {},
     "output_type": "execute_result"
    }
   ],
   "source": [
    "df.head()"
   ]
  },
  {
   "cell_type": "markdown",
   "metadata": {},
   "source": [
    "**a.** Construya un modelo lineal de primer y segundo orden. Con base en el coeficiente de determinación ¿Cuál modelo elegiría? Y ¿Por qué? Recuerde publicar ambos modelos, utilícelos para calcular los valores predichos y compararlos con los experimentales."
   ]
  },
  {
   "cell_type": "code",
   "execution_count": 34,
   "metadata": {},
   "outputs": [
    {
     "data": {
      "text/html": [
       "<table class=\"simpletable\">\n",
       "<caption>OLS Regression Results</caption>\n",
       "<tr>\n",
       "  <th>Dep. Variable:</th>      <td>calificacion</td>   <th>  R-squared:         </th> <td>   0.980</td>\n",
       "</tr>\n",
       "<tr>\n",
       "  <th>Model:</th>                   <td>OLS</td>       <th>  Adj. R-squared:    </th> <td>   0.979</td>\n",
       "</tr>\n",
       "<tr>\n",
       "  <th>Method:</th>             <td>Least Squares</td>  <th>  F-statistic:       </th> <td>   846.6</td>\n",
       "</tr>\n",
       "<tr>\n",
       "  <th>Date:</th>             <td>Mon, 05 Nov 2018</td> <th>  Prob (F-statistic):</th> <td>1.81e-43</td>\n",
       "</tr>\n",
       "<tr>\n",
       "  <th>Time:</th>                 <td>23:13:26</td>     <th>  Log-Likelihood:    </th> <td> -160.95</td>\n",
       "</tr>\n",
       "<tr>\n",
       "  <th>No. Observations:</th>      <td>    54</td>      <th>  AIC:               </th> <td>   327.9</td>\n",
       "</tr>\n",
       "<tr>\n",
       "  <th>Df Residuals:</th>          <td>    51</td>      <th>  BIC:               </th> <td>   333.9</td>\n",
       "</tr>\n",
       "<tr>\n",
       "  <th>Df Model:</th>              <td>     3</td>      <th>                     </th>     <td> </td>   \n",
       "</tr>\n",
       "<tr>\n",
       "  <th>Covariance Type:</th>      <td>nonrobust</td>    <th>                     </th>     <td> </td>   \n",
       "</tr>\n",
       "</table>\n",
       "<table class=\"simpletable\">\n",
       "<tr>\n",
       "        <td></td>          <th>coef</th>     <th>std err</th>      <th>t</th>      <th>P>|t|</th>  <th>[0.025</th>    <th>0.975]</th>  \n",
       "</tr>\n",
       "<tr>\n",
       "  <th>operador</th>     <td>    1.5864</td> <td>    0.806</td> <td>    1.968</td> <td> 0.055</td> <td>   -0.032</td> <td>    3.205</td>\n",
       "</tr>\n",
       "<tr>\n",
       "  <th>tiempo_ciclo</th> <td>    0.0492</td> <td>    0.074</td> <td>    0.670</td> <td> 0.506</td> <td>   -0.098</td> <td>    0.197</td>\n",
       "</tr>\n",
       "<tr>\n",
       "  <th>temperatura</th>  <td>    0.0855</td> <td>    0.013</td> <td>    6.773</td> <td> 0.000</td> <td>    0.060</td> <td>    0.111</td>\n",
       "</tr>\n",
       "</table>\n",
       "<table class=\"simpletable\">\n",
       "<tr>\n",
       "  <th>Omnibus:</th>       <td> 0.658</td> <th>  Durbin-Watson:     </th> <td>   0.791</td>\n",
       "</tr>\n",
       "<tr>\n",
       "  <th>Prob(Omnibus):</th> <td> 0.720</td> <th>  Jarque-Bera (JB):  </th> <td>   0.750</td>\n",
       "</tr>\n",
       "<tr>\n",
       "  <th>Skew:</th>          <td>-0.124</td> <th>  Prob(JB):          </th> <td>   0.687</td>\n",
       "</tr>\n",
       "<tr>\n",
       "  <th>Kurtosis:</th>      <td> 2.479</td> <th>  Cond. No.          </th> <td>    399.</td>\n",
       "</tr>\n",
       "</table><br/><br/>Warnings:<br/>[1] Standard Errors assume that the covariance matrix of the errors is correctly specified."
      ],
      "text/plain": [
       "<class 'statsmodels.iolib.summary.Summary'>\n",
       "\"\"\"\n",
       "                            OLS Regression Results                            \n",
       "==============================================================================\n",
       "Dep. Variable:           calificacion   R-squared:                       0.980\n",
       "Model:                            OLS   Adj. R-squared:                  0.979\n",
       "Method:                 Least Squares   F-statistic:                     846.6\n",
       "Date:                Mon, 05 Nov 2018   Prob (F-statistic):           1.81e-43\n",
       "Time:                        23:13:26   Log-Likelihood:                -160.95\n",
       "No. Observations:                  54   AIC:                             327.9\n",
       "Df Residuals:                      51   BIC:                             333.9\n",
       "Df Model:                           3                                         \n",
       "Covariance Type:            nonrobust                                         \n",
       "================================================================================\n",
       "                   coef    std err          t      P>|t|      [0.025      0.975]\n",
       "--------------------------------------------------------------------------------\n",
       "operador         1.5864      0.806      1.968      0.055      -0.032       3.205\n",
       "tiempo_ciclo     0.0492      0.074      0.670      0.506      -0.098       0.197\n",
       "temperatura      0.0855      0.013      6.773      0.000       0.060       0.111\n",
       "==============================================================================\n",
       "Omnibus:                        0.658   Durbin-Watson:                   0.791\n",
       "Prob(Omnibus):                  0.720   Jarque-Bera (JB):                0.750\n",
       "Skew:                          -0.124   Prob(JB):                        0.687\n",
       "Kurtosis:                       2.479   Cond. No.                         399.\n",
       "==============================================================================\n",
       "\n",
       "Warnings:\n",
       "[1] Standard Errors assume that the covariance matrix of the errors is correctly specified.\n",
       "\"\"\""
      ]
     },
     "execution_count": 34,
     "metadata": {},
     "output_type": "execute_result"
    }
   ],
   "source": [
    "model_1 = sm.OLS(df['calificacion'], df.drop(['calificacion'],axis=1)).fit()\n",
    "model_1.summary()"
   ]
  },
  {
   "cell_type": "code",
   "execution_count": 32,
   "metadata": {},
   "outputs": [
    {
     "data": {
      "text/html": [
       "<table class=\"simpletable\">\n",
       "<caption>OLS Regression Results</caption>\n",
       "<tr>\n",
       "  <th>Dep. Variable:</th>      <td>calificacion</td>   <th>  R-squared:         </th> <td>   0.080</td>\n",
       "</tr>\n",
       "<tr>\n",
       "  <th>Model:</th>                   <td>OLS</td>       <th>  Adj. R-squared:    </th> <td>   0.024</td>\n",
       "</tr>\n",
       "<tr>\n",
       "  <th>Method:</th>             <td>Least Squares</td>  <th>  F-statistic:       </th> <td>   1.441</td>\n",
       "</tr>\n",
       "<tr>\n",
       "  <th>Date:</th>             <td>Mon, 05 Nov 2018</td> <th>  Prob (F-statistic):</th>  <td> 0.242</td> \n",
       "</tr>\n",
       "<tr>\n",
       "  <th>Time:</th>                 <td>23:12:47</td>     <th>  Log-Likelihood:    </th> <td> -157.97</td>\n",
       "</tr>\n",
       "<tr>\n",
       "  <th>No. Observations:</th>      <td>    54</td>      <th>  AIC:               </th> <td>   323.9</td>\n",
       "</tr>\n",
       "<tr>\n",
       "  <th>Df Residuals:</th>          <td>    50</td>      <th>  BIC:               </th> <td>   331.9</td>\n",
       "</tr>\n",
       "<tr>\n",
       "  <th>Df Model:</th>              <td>     3</td>      <th>                     </th>     <td> </td>   \n",
       "</tr>\n",
       "<tr>\n",
       "  <th>Covariance Type:</th>      <td>nonrobust</td>    <th>                     </th>     <td> </td>   \n",
       "</tr>\n",
       "</table>\n",
       "<table class=\"simpletable\">\n",
       "<tr>\n",
       "        <td></td>          <th>coef</th>     <th>std err</th>      <th>t</th>      <th>P>|t|</th>  <th>[0.025</th>    <th>0.975]</th>  \n",
       "</tr>\n",
       "<tr>\n",
       "  <th>Intercept</th>    <td>   22.7459</td> <td>    9.409</td> <td>    2.417</td> <td> 0.019</td> <td>    3.847</td> <td>   41.645</td>\n",
       "</tr>\n",
       "<tr>\n",
       "  <th>operador</th>     <td>    1.2728</td> <td>    0.781</td> <td>    1.629</td> <td> 0.110</td> <td>   -0.296</td> <td>    2.842</td>\n",
       "</tr>\n",
       "<tr>\n",
       "  <th>tiempo_ciclo</th> <td>   -0.0333</td> <td>    0.078</td> <td>   -0.427</td> <td> 0.671</td> <td>   -0.190</td> <td>    0.124</td>\n",
       "</tr>\n",
       "<tr>\n",
       "  <th>temperatura</th>  <td>    0.0311</td> <td>    0.026</td> <td>    1.219</td> <td> 0.228</td> <td>   -0.020</td> <td>    0.082</td>\n",
       "</tr>\n",
       "</table>\n",
       "<table class=\"simpletable\">\n",
       "<tr>\n",
       "  <th>Omnibus:</th>       <td>13.351</td> <th>  Durbin-Watson:     </th> <td>   0.858</td>\n",
       "</tr>\n",
       "<tr>\n",
       "  <th>Prob(Omnibus):</th> <td> 0.001</td> <th>  Jarque-Bera (JB):  </th> <td>   3.353</td>\n",
       "</tr>\n",
       "<tr>\n",
       "  <th>Skew:</th>          <td>-0.113</td> <th>  Prob(JB):          </th> <td>   0.187</td>\n",
       "</tr>\n",
       "<tr>\n",
       "  <th>Kurtosis:</th>      <td> 1.800</td> <th>  Cond. No.          </th> <td>4.87e+03</td>\n",
       "</tr>\n",
       "</table><br/><br/>Warnings:<br/>[1] Standard Errors assume that the covariance matrix of the errors is correctly specified.<br/>[2] The condition number is large, 4.87e+03. This might indicate that there are<br/>strong multicollinearity or other numerical problems."
      ],
      "text/plain": [
       "<class 'statsmodels.iolib.summary.Summary'>\n",
       "\"\"\"\n",
       "                            OLS Regression Results                            \n",
       "==============================================================================\n",
       "Dep. Variable:           calificacion   R-squared:                       0.080\n",
       "Model:                            OLS   Adj. R-squared:                  0.024\n",
       "Method:                 Least Squares   F-statistic:                     1.441\n",
       "Date:                Mon, 05 Nov 2018   Prob (F-statistic):              0.242\n",
       "Time:                        23:12:47   Log-Likelihood:                -157.97\n",
       "No. Observations:                  54   AIC:                             323.9\n",
       "Df Residuals:                      50   BIC:                             331.9\n",
       "Df Model:                           3                                         \n",
       "Covariance Type:            nonrobust                                         \n",
       "================================================================================\n",
       "                   coef    std err          t      P>|t|      [0.025      0.975]\n",
       "--------------------------------------------------------------------------------\n",
       "Intercept       22.7459      9.409      2.417      0.019       3.847      41.645\n",
       "operador         1.2728      0.781      1.629      0.110      -0.296       2.842\n",
       "tiempo_ciclo    -0.0333      0.078     -0.427      0.671      -0.190       0.124\n",
       "temperatura      0.0311      0.026      1.219      0.228      -0.020       0.082\n",
       "==============================================================================\n",
       "Omnibus:                       13.351   Durbin-Watson:                   0.858\n",
       "Prob(Omnibus):                  0.001   Jarque-Bera (JB):                3.353\n",
       "Skew:                          -0.113   Prob(JB):                        0.187\n",
       "Kurtosis:                       1.800   Cond. No.                     4.87e+03\n",
       "==============================================================================\n",
       "\n",
       "Warnings:\n",
       "[1] Standard Errors assume that the covariance matrix of the errors is correctly specified.\n",
       "[2] The condition number is large, 4.87e+03. This might indicate that there are\n",
       "strong multicollinearity or other numerical problems.\n",
       "\"\"\""
      ]
     },
     "execution_count": 32,
     "metadata": {},
     "output_type": "execute_result"
    }
   ],
   "source": [
    "model_2 = smf.ols(formula = 'calificacion ~ operador + tiempo_ciclo + temperatura',data = df).fit()\n",
    "model_2.summary()"
   ]
  },
  {
   "cell_type": "markdown",
   "metadata": {},
   "source": [
    "Generando dos modelos podemos ver que el primer modelo tiene un R cuadrádo de 0.98, es decir, explica el 98% de los datos, lo cual lo hace un modelo muy bueno; en cambio en el segundo caso tenemos un modelo que solo explica el 8% de los datos, lo que lo hace un modelo poco confiable"
   ]
  },
  {
   "cell_type": "markdown",
   "metadata": {},
   "source": [
    "* Vamos ahora a generar las dos funciones modelos"
   ]
  },
  {
   "cell_type": "code",
   "execution_count": 108,
   "metadata": {},
   "outputs": [],
   "source": [
    "f_1 = lambda x: x[0]*1.5864 + x[1]*0.0492 + x[2]*0.0855\n",
    "f_2 = lambda x: x[0]*1.2728 + x[1]*(-0.0333) + x[2]*0.0311 + 22.7459"
   ]
  },
  {
   "cell_type": "code",
   "execution_count": 107,
   "metadata": {},
   "outputs": [
    {
     "data": {
      "text/plain": [
       "array([25.67, 25.67, 26.66, 26.67, 26.67, 26.67, 27.5 , 27.66, 27.67,\n",
       "       27.67, 28.5 , 28.66, 28.66, 28.67, 29.5 , 29.66, 29.67, 30.66,\n",
       "       30.67, 30.67, 31.66, 31.67, 31.67, 33.66, 33.66, 34.66, 35.5 ,\n",
       "       35.5 , 35.5 , 35.5 , 35.66, 36.5 , 36.5 , 36.5 , 36.66, 36.66,\n",
       "       36.66, 37.5 , 37.5 , 37.5 , 37.66, 37.67, 37.67, 38.5 , 38.66,\n",
       "       38.66, 38.67, 38.67, 39.5 , 39.5 , 39.5 , 39.67, 40.5 , 41.66])"
      ]
     },
     "execution_count": 107,
     "metadata": {},
     "output_type": "execute_result"
    }
   ],
   "source": [
    "# Tomamos los valores de nuestro dataset y los almacenamos en arrays\n",
    "x_data = df.drop('calificacion',axis=1).values\n",
    "y_data = df['calificacion'].values\n",
    "y_data.sort()\n",
    "y_data"
   ]
  },
  {
   "cell_type": "code",
   "execution_count": 105,
   "metadata": {},
   "outputs": [],
   "source": [
    "#Tomamos los valores predichos por nuestro primer modelo\n",
    "predicho_model_1 = np.array([f_1(x) for x in x_data])"
   ]
  },
  {
   "cell_type": "code",
   "execution_count": 106,
   "metadata": {},
   "outputs": [],
   "source": [
    "#Tomamos los valores predichos por nuestro segundo modelo\n",
    "predicho_model_2 = np.array([f_2(x) for x in x_data])"
   ]
  },
  {
   "cell_type": "code",
   "execution_count": 121,
   "metadata": {},
   "outputs": [
    {
     "data": {
      "text/plain": [
       "<matplotlib.legend.Legend at 0x1204f50f0>"
      ]
     },
     "execution_count": 121,
     "metadata": {},
     "output_type": "execute_result"
    },
    {
     "data": {
      "image/png": "[encoded data removed]",
      "text/plain": [
       "<Figure size 432x288 with 1 Axes>"
      ]
     },
     "metadata": {
      "needs_background": "light"
     },
     "output_type": "display_data"
    }
   ],
   "source": [
    "#Gráficas de medido vs predicho para el model_1\n",
    "plt.scatter(y_data,predicho_model_1)\n",
    "plt.plot(list(range(25,42)),list(range(25,42)), color='red')\n",
    "plt.xlabel('Medido')\n",
    "plt.ylabel('Predicho')\n",
    "plt.legend(['Mediciones perfectas','Puntos obtenidos'])"
   ]
  },
  {
   "cell_type": "code",
   "execution_count": 120,
   "metadata": {},
   "outputs": [
    {
     "data": {
      "text/plain": [
       "<matplotlib.legend.Legend at 0x120412fd0>"
      ]
     },
     "execution_count": 120,
     "metadata": {},
     "output_type": "execute_result"
    },
    {
     "data": {
      "image/png": "[encoded data removed]",
      "text/plain": [
       "<Figure size 432x288 with 1 Axes>"
      ]
     },
     "metadata": {
      "needs_background": "light"
     },
     "output_type": "display_data"
    }
   ],
   "source": [
    "#Gráficas de medido vs predicho para el model_2\n",
    "plt.scatter(y_data,predicho_model_2)\n",
    "plt.plot(list(range(25,42)),list(range(25,42)), color='red')\n",
    "plt.xlabel('Medido')\n",
    "plt.ylabel('Predicho')\n",
    "plt.legend(['Mediciones perfectas','Puntos obtenidos'])"
   ]
  },
  {
   "cell_type": "markdown",
   "metadata": {},
   "source": [
    "En conclusión se debería tomar el primer modelo ya que explica mejor a los datos, y ademas porque la grafica de comparacion de predichos vs medidos"
   ]
  },
  {
   "cell_type": "markdown",
   "metadata": {},
   "source": [
    "------"
   ]
  },
  {
   "cell_type": "markdown",
   "metadata": {},
   "source": [
    "**b.** ¿Cuáles son los factores que afectan de manera significativa la variable de respuesta?, utilice una significancia del 0.5 + i/100 (donde i es el promedio de los dos últimos dígitos de la cédula de los dos integrantes). Recuerde evaluar las interacciones , concluir extensamente y plantear las pruebas de hipótesis que tenga a lugar."
   ]
  },
  {
   "cell_type": "markdown",
   "metadata": {},
   "source": [
    "$significancia = 0.5 + \\frac{2.66}{100}$  \n",
    "$significancia = 0.5266$ "
   ]
  },
  {
   "cell_type": "code",
   "execution_count": 129,
   "metadata": {},
   "outputs": [
    {
     "name": "stdout",
     "output_type": "stream",
     "text": [
      "Multiple Comparison of Means - Tukey HSD,FWER=0.05\n",
      "===========================================\n",
      "group1 group2 meandiff lower  upper  reject\n",
      "-------------------------------------------\n",
      " 300    350    2.5548  0.0368 5.0728  True \n",
      "-------------------------------------------\n"
     ]
    }
   ],
   "source": [
    "# Creamos una comparación múltiple y realizamos el Tukey Test para la Temperatura\n",
    "mc = MultiComparison(df['calificacion'].values , df['temperatura'])# \n",
    "print(mc.tukeyhsd())"
   ]
  },
  {
   "cell_type": "markdown",
   "metadata": {},
   "source": [
    "Con este test podemos determinar que se debe rechazar $H_0 : \\mu_{300} = \\mu_{350}$  \n",
    "Es decir, los dos resultados tienen efectos significativos tomando diferentes temperaturas"
   ]
  },
  {
   "cell_type": "code",
   "execution_count": 130,
   "metadata": {},
   "outputs": [
    {
     "name": "stdout",
     "output_type": "stream",
     "text": [
      "Multiple Comparison of Means - Tukey HSD,FWER=0.05\n",
      "============================================\n",
      "group1 group2 meandiff  lower  upper  reject\n",
      "--------------------------------------------\n",
      "42.667 52.667  0.7689  -3.0731 4.6109 False \n",
      "42.667 62.667  1.8406  -2.0015 5.6826 False \n",
      "52.667 62.667  1.0717  -2.7704 4.9137 False \n",
      "--------------------------------------------\n"
     ]
    }
   ],
   "source": [
    "# Creamos una comparación múltiple y realizamos el Tukey Test para la Tiempo de Ciclo\n",
    "mc = MultiComparison(df['calificacion'].values , df['tiempo_ciclo'])# \n",
    "print(mc.tukeyhsd())"
   ]
  },
  {
   "cell_type": "markdown",
   "metadata": {},
   "source": [
    "En este caso los resultados no dependen del tiempo de ciclo, ya que los efectos sobre la salida son iguales para cualquier tiempo de ciclo"
   ]
  },
  {
   "cell_type": "code",
   "execution_count": 134,
   "metadata": {},
   "outputs": [
    {
     "name": "stdout",
     "output_type": "stream",
     "text": [
      "Multiple Comparison of Means - Tukey HSD,FWER=0.05\n",
      "============================================\n",
      "group1 group2 meandiff lower   upper  reject\n",
      "--------------------------------------------\n",
      "  1      2     6.4617  5.1159  7.8075  True \n",
      "  1      3    10.7311  9.3853 12.0769  True \n",
      "  2      3     4.2694  2.9236  5.6152  True \n",
      "--------------------------------------------\n"
     ]
    }
   ],
   "source": [
    "# Creamos una comparación múltiple y realizamos el Tukey Test para la Operador\n",
    "mc = MultiComparison(df['calificacion'].values , df['operador'])# \n",
    "print(mc.tukeyhsd())"
   ]
  },
  {
   "cell_type": "markdown",
   "metadata": {},
   "source": [
    "Este test nos arroja datos interesantes, nos dice que debemos rechazar las hipotesis de que los trabajadores tienen los mismos efectos sobre la salida; es decir, la calificación tiene una fuerte dependencia del trabajador que realice el artículo evaluado, los tratamientos son diferentes para cada trabajador"
   ]
  },
  {
   "cell_type": "code",
   "execution_count": null,
   "metadata": {},
   "outputs": [],
   "source": []
  }
 ],
 "metadata": {
  "kernelspec": {
   "display_name": "Python 3",
   "language": "python",
   "name": "python3"
  },
  "language_info": {
   "codemirror_mode": {
    "name": "ipython",
    "version": 3
   },
   "file_extension": ".py",
   "mimetype": "text/x-python",
   "name": "python",
   "nbconvert_exporter": "python",
   "pygments_lexer": "ipython3",
   "version": "3.6.5"
  }
 },
 "nbformat": 4,
 "nbformat_minor": 2
}
