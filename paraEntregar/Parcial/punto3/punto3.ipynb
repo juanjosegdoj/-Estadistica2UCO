{
  "nbformat": 4,
  "nbformat_minor": 0,
  "metadata": {
    "colab": {
      "name": "Parcial EII, Punto 3.ipynb",
      "version": "0.3.2",
      "provenance": [],
      "collapsed_sections": []
    },
    "kernelspec": {
      "display_name": "Python 3",
      "language": "python",
      "name": "python3"
    }
  },
  "cells": [
    {
      "metadata": {
        "id": "RJWRUie_0PET",
        "colab_type": "code",
        "colab": {}
      },
      "cell_type": "code",
      "source": [
        "import itertools\n",
        "import numpy as np\n",
        "import pandas as pd\n",
        "import statsmodels.api as sm\n",
        "import statsmodels.formula.api as smf\n",
        "from sklearn.linear_model import LinearRegression\n",
        "import matplotlib.pyplot as plt"
      ],
      "execution_count": 0,
      "outputs": []
    },
    {
      "metadata": {
        "id": "__4sKa6f0PEp",
        "colab_type": "text"
      },
      "cell_type": "markdown",
      "source": [
        "Un ingeniero desea producir a escala industrial un tipo de gomina. En su planta de producción encuentra que la temperatura, la tasa de agitación y la presión son las variables que mejor explican la viscosidad de la gomina. Interesa maximizar dicha viscosidad. En las siguientes tablas se muestra la descripción del proceso:\n"
      ]
    },
    {
      "metadata": {
        "id": "QvQcxWhn0PEx",
        "colab_type": "text"
      },
      "cell_type": "markdown",
      "source": [
        "En primer lugar realizamos un diseño factorial para determinar cuales son los datos que deberiamos tener"
      ]
    },
    {
      "metadata": {
        "id": "MJXxyDOG0PE1",
        "colab_type": "code",
        "colab": {}
      },
      "cell_type": "code",
      "source": [
        "data_product = np.array(list(itertools.product([200,175,150],\n",
        "                                               [10.0,7.5,5.0],\n",
        "                                               [25,20,15]\n",
        "                                              )))"
      ],
      "execution_count": 0,
      "outputs": []
    },
    {
      "metadata": {
        "id": "utsXXG8j0PFG",
        "colab_type": "code",
        "outputId": "55b8cdf0-93ab-4c69-d504-a1d8e1c8c92a",
        "colab": {
          "base_uri": "https://localhost:8080/",
          "height": 486
        }
      },
      "cell_type": "code",
      "source": [
        "data_product"
      ],
      "execution_count": 4,
      "outputs": [
        {
          "output_type": "execute_result",
          "data": {
            "text/plain": [
              "array([[200. ,  10. ,  25. ],\n",
              "       [200. ,  10. ,  20. ],\n",
              "       [200. ,  10. ,  15. ],\n",
              "       [200. ,   7.5,  25. ],\n",
              "       [200. ,   7.5,  20. ],\n",
              "       [200. ,   7.5,  15. ],\n",
              "       [200. ,   5. ,  25. ],\n",
              "       [200. ,   5. ,  20. ],\n",
              "       [200. ,   5. ,  15. ],\n",
              "       [175. ,  10. ,  25. ],\n",
              "       [175. ,  10. ,  20. ],\n",
              "       [175. ,  10. ,  15. ],\n",
              "       [175. ,   7.5,  25. ],\n",
              "       [175. ,   7.5,  20. ],\n",
              "       [175. ,   7.5,  15. ],\n",
              "       [175. ,   5. ,  25. ],\n",
              "       [175. ,   5. ,  20. ],\n",
              "       [175. ,   5. ,  15. ],\n",
              "       [150. ,  10. ,  25. ],\n",
              "       [150. ,  10. ,  20. ],\n",
              "       [150. ,  10. ,  15. ],\n",
              "       [150. ,   7.5,  25. ],\n",
              "       [150. ,   7.5,  20. ],\n",
              "       [150. ,   7.5,  15. ],\n",
              "       [150. ,   5. ,  25. ],\n",
              "       [150. ,   5. ,  20. ],\n",
              "       [150. ,   5. ,  15. ]])"
            ]
          },
          "metadata": {
            "tags": []
          },
          "execution_count": 4
        }
      ]
    },
    {
      "metadata": {
        "id": "tQn9eQVG0PFe",
        "colab_type": "code",
        "outputId": "f49242cc-30b1-4980-8a2b-98494ffb38d3",
        "colab": {
          "base_uri": "https://localhost:8080/",
          "height": 34
        }
      },
      "cell_type": "code",
      "source": [
        "data_product.shape"
      ],
      "execution_count": 5,
      "outputs": [
        {
          "output_type": "execute_result",
          "data": {
            "text/plain": [
              "(27, 3)"
            ]
          },
          "metadata": {
            "tags": []
          },
          "execution_count": 5
        }
      ]
    },
    {
      "metadata": {
        "id": "WyBXo5cZ0PFq",
        "colab_type": "text"
      },
      "cell_type": "markdown",
      "source": [
        "Al tener tres parametros cada uno con tres niveles se deben obtener $3^3 = 27$ corridas en las experimentaciones"
      ]
    },
    {
      "metadata": {
        "id": "yth-SbEu2_sK",
        "colab_type": "code",
        "colab": {}
      },
      "cell_type": "code",
      "source": [
        "titles = ['corrida','temperatura','tasa_agitacion','presion','viscosidad']\n",
        "data = np.array([[1,150,5,20,537.66],\n",
        "[2,200,5,20,582.66],\n",
        "[3,150,10,20,598.66],\n",
        "[4,200,10,20,565.66],\n",
        "[5,150,7.5,15,647.66],\n",
        "[6,200,7.5,15,460.66],\n",
        "[7,150,7.5,25,352.66],\n",
        "[8,200,7.5,25,602.66],\n",
        "[9,175,5,15,597.66],\n",
        "[10,175,10,15,650.66],\n",
        "[11,175,5,25,534.66],\n",
        "[12,175,10,25,658.66],\n",
        "[13,175,7.5,20,654.66],\n",
        "[14,175,7.5,20,601.66],\n",
        "[15,175,7.5,20,622.66]])"
      ],
      "execution_count": 0,
      "outputs": []
    },
    {
      "metadata": {
        "id": "AGU-yzzY0PFx",
        "colab_type": "code",
        "outputId": "5ae67687-9d85-42ca-ecb5-c09f1158f202",
        "colab": {
          "base_uri": "https://localhost:8080/",
          "height": 206
        }
      },
      "cell_type": "code",
      "source": [
        "# Cargamos los datos entregados\n",
        "df = pd.DataFrame(data, columns = titles)\n",
        "df.head()"
      ],
      "execution_count": 14,
      "outputs": [
        {
          "output_type": "execute_result",
          "data": {
            "text/html": [
              "<div>\n",
              "<style scoped>\n",
              "    .dataframe tbody tr th:only-of-type {\n",
              "        vertical-align: middle;\n",
              "    }\n",
              "\n",
              "    .dataframe tbody tr th {\n",
              "        vertical-align: top;\n",
              "    }\n",
              "\n",
              "    .dataframe thead th {\n",
              "        text-align: right;\n",
              "    }\n",
              "</style>\n",
              "<table border=\"1\" class=\"dataframe\">\n",
              "  <thead>\n",
              "    <tr style=\"text-align: right;\">\n",
              "      <th></th>\n",
              "      <th>corrida</th>\n",
              "      <th>temperatura</th>\n",
              "      <th>tasa_agitacion</th>\n",
              "      <th>presion</th>\n",
              "      <th>viscosidad</th>\n",
              "    </tr>\n",
              "  </thead>\n",
              "  <tbody>\n",
              "    <tr>\n",
              "      <th>0</th>\n",
              "      <td>1.0</td>\n",
              "      <td>150.0</td>\n",
              "      <td>5.0</td>\n",
              "      <td>20.0</td>\n",
              "      <td>537.66</td>\n",
              "    </tr>\n",
              "    <tr>\n",
              "      <th>1</th>\n",
              "      <td>2.0</td>\n",
              "      <td>200.0</td>\n",
              "      <td>5.0</td>\n",
              "      <td>20.0</td>\n",
              "      <td>582.66</td>\n",
              "    </tr>\n",
              "    <tr>\n",
              "      <th>2</th>\n",
              "      <td>3.0</td>\n",
              "      <td>150.0</td>\n",
              "      <td>10.0</td>\n",
              "      <td>20.0</td>\n",
              "      <td>598.66</td>\n",
              "    </tr>\n",
              "    <tr>\n",
              "      <th>3</th>\n",
              "      <td>4.0</td>\n",
              "      <td>200.0</td>\n",
              "      <td>10.0</td>\n",
              "      <td>20.0</td>\n",
              "      <td>565.66</td>\n",
              "    </tr>\n",
              "    <tr>\n",
              "      <th>4</th>\n",
              "      <td>5.0</td>\n",
              "      <td>150.0</td>\n",
              "      <td>7.5</td>\n",
              "      <td>15.0</td>\n",
              "      <td>647.66</td>\n",
              "    </tr>\n",
              "  </tbody>\n",
              "</table>\n",
              "</div>"
            ],
            "text/plain": [
              "   corrida  temperatura  tasa_agitacion  presion  viscosidad\n",
              "0      1.0        150.0             5.0     20.0      537.66\n",
              "1      2.0        200.0             5.0     20.0      582.66\n",
              "2      3.0        150.0            10.0     20.0      598.66\n",
              "3      4.0        200.0            10.0     20.0      565.66\n",
              "4      5.0        150.0             7.5     15.0      647.66"
            ]
          },
          "metadata": {
            "tags": []
          },
          "execution_count": 14
        }
      ]
    },
    {
      "metadata": {
        "id": "xmJRY_xk0PF_",
        "colab_type": "text"
      },
      "cell_type": "markdown",
      "source": [
        "Los datos entregados en el problema estában organizados de modo que por cada nivel de se reemplazan los valores con -1, 0 y 1; para poder hallar mas adelante un modelo certero debemos trabajarlos con los datos reales, los cuales toman valores contínuos y no discretos como están factorizados"
      ]
    },
    {
      "metadata": {
        "id": "Q4UGhb2q0PGH",
        "colab_type": "text"
      },
      "cell_type": "markdown",
      "source": [
        "**a.** Para este diseño se utilizó una metodología de Box and Behnken: utilizando R proponga la matriz del diseño e incluya la variable de respuesta viscosidad con los valores reales"
      ]
    },
    {
      "metadata": {
        "id": "tT4KwcYd0PGW",
        "colab_type": "text"
      },
      "cell_type": "markdown",
      "source": [
        "**Solución**"
      ]
    },
    {
      "metadata": {
        "id": "zkn3Jp_O0PGZ",
        "colab_type": "text"
      },
      "cell_type": "markdown",
      "source": [
        "Mostramos los valores ordenados entre sí por los niveles de las caracteristicas"
      ]
    },
    {
      "metadata": {
        "id": "JiVIiUEM50r4",
        "colab_type": "text"
      },
      "cell_type": "markdown",
      "source": [
        ""
      ]
    },
    {
      "metadata": {
        "id": "OMcHYYtR0PGf",
        "colab_type": "code",
        "outputId": "5df9547a-fd87-4b4d-c16e-e58899d70147",
        "colab": {
          "base_uri": "https://localhost:8080/",
          "height": 520
        }
      },
      "cell_type": "code",
      "source": [
        "df.sort_values(['temperatura','tasa_agitacion','presion'])"
      ],
      "execution_count": 15,
      "outputs": [
        {
          "output_type": "execute_result",
          "data": {
            "text/html": [
              "<div>\n",
              "<style scoped>\n",
              "    .dataframe tbody tr th:only-of-type {\n",
              "        vertical-align: middle;\n",
              "    }\n",
              "\n",
              "    .dataframe tbody tr th {\n",
              "        vertical-align: top;\n",
              "    }\n",
              "\n",
              "    .dataframe thead th {\n",
              "        text-align: right;\n",
              "    }\n",
              "</style>\n",
              "<table border=\"1\" class=\"dataframe\">\n",
              "  <thead>\n",
              "    <tr style=\"text-align: right;\">\n",
              "      <th></th>\n",
              "      <th>corrida</th>\n",
              "      <th>temperatura</th>\n",
              "      <th>tasa_agitacion</th>\n",
              "      <th>presion</th>\n",
              "      <th>viscosidad</th>\n",
              "    </tr>\n",
              "  </thead>\n",
              "  <tbody>\n",
              "    <tr>\n",
              "      <th>0</th>\n",
              "      <td>1.0</td>\n",
              "      <td>150.0</td>\n",
              "      <td>5.0</td>\n",
              "      <td>20.0</td>\n",
              "      <td>537.66</td>\n",
              "    </tr>\n",
              "    <tr>\n",
              "      <th>4</th>\n",
              "      <td>5.0</td>\n",
              "      <td>150.0</td>\n",
              "      <td>7.5</td>\n",
              "      <td>15.0</td>\n",
              "      <td>647.66</td>\n",
              "    </tr>\n",
              "    <tr>\n",
              "      <th>6</th>\n",
              "      <td>7.0</td>\n",
              "      <td>150.0</td>\n",
              "      <td>7.5</td>\n",
              "      <td>25.0</td>\n",
              "      <td>352.66</td>\n",
              "    </tr>\n",
              "    <tr>\n",
              "      <th>2</th>\n",
              "      <td>3.0</td>\n",
              "      <td>150.0</td>\n",
              "      <td>10.0</td>\n",
              "      <td>20.0</td>\n",
              "      <td>598.66</td>\n",
              "    </tr>\n",
              "    <tr>\n",
              "      <th>8</th>\n",
              "      <td>9.0</td>\n",
              "      <td>175.0</td>\n",
              "      <td>5.0</td>\n",
              "      <td>15.0</td>\n",
              "      <td>597.66</td>\n",
              "    </tr>\n",
              "    <tr>\n",
              "      <th>10</th>\n",
              "      <td>11.0</td>\n",
              "      <td>175.0</td>\n",
              "      <td>5.0</td>\n",
              "      <td>25.0</td>\n",
              "      <td>534.66</td>\n",
              "    </tr>\n",
              "    <tr>\n",
              "      <th>12</th>\n",
              "      <td>13.0</td>\n",
              "      <td>175.0</td>\n",
              "      <td>7.5</td>\n",
              "      <td>20.0</td>\n",
              "      <td>654.66</td>\n",
              "    </tr>\n",
              "    <tr>\n",
              "      <th>13</th>\n",
              "      <td>14.0</td>\n",
              "      <td>175.0</td>\n",
              "      <td>7.5</td>\n",
              "      <td>20.0</td>\n",
              "      <td>601.66</td>\n",
              "    </tr>\n",
              "    <tr>\n",
              "      <th>14</th>\n",
              "      <td>15.0</td>\n",
              "      <td>175.0</td>\n",
              "      <td>7.5</td>\n",
              "      <td>20.0</td>\n",
              "      <td>622.66</td>\n",
              "    </tr>\n",
              "    <tr>\n",
              "      <th>9</th>\n",
              "      <td>10.0</td>\n",
              "      <td>175.0</td>\n",
              "      <td>10.0</td>\n",
              "      <td>15.0</td>\n",
              "      <td>650.66</td>\n",
              "    </tr>\n",
              "    <tr>\n",
              "      <th>11</th>\n",
              "      <td>12.0</td>\n",
              "      <td>175.0</td>\n",
              "      <td>10.0</td>\n",
              "      <td>25.0</td>\n",
              "      <td>658.66</td>\n",
              "    </tr>\n",
              "    <tr>\n",
              "      <th>1</th>\n",
              "      <td>2.0</td>\n",
              "      <td>200.0</td>\n",
              "      <td>5.0</td>\n",
              "      <td>20.0</td>\n",
              "      <td>582.66</td>\n",
              "    </tr>\n",
              "    <tr>\n",
              "      <th>5</th>\n",
              "      <td>6.0</td>\n",
              "      <td>200.0</td>\n",
              "      <td>7.5</td>\n",
              "      <td>15.0</td>\n",
              "      <td>460.66</td>\n",
              "    </tr>\n",
              "    <tr>\n",
              "      <th>7</th>\n",
              "      <td>8.0</td>\n",
              "      <td>200.0</td>\n",
              "      <td>7.5</td>\n",
              "      <td>25.0</td>\n",
              "      <td>602.66</td>\n",
              "    </tr>\n",
              "    <tr>\n",
              "      <th>3</th>\n",
              "      <td>4.0</td>\n",
              "      <td>200.0</td>\n",
              "      <td>10.0</td>\n",
              "      <td>20.0</td>\n",
              "      <td>565.66</td>\n",
              "    </tr>\n",
              "  </tbody>\n",
              "</table>\n",
              "</div>"
            ],
            "text/plain": [
              "    corrida  temperatura  tasa_agitacion  presion  viscosidad\n",
              "0       1.0        150.0             5.0     20.0      537.66\n",
              "4       5.0        150.0             7.5     15.0      647.66\n",
              "6       7.0        150.0             7.5     25.0      352.66\n",
              "2       3.0        150.0            10.0     20.0      598.66\n",
              "8       9.0        175.0             5.0     15.0      597.66\n",
              "10     11.0        175.0             5.0     25.0      534.66\n",
              "12     13.0        175.0             7.5     20.0      654.66\n",
              "13     14.0        175.0             7.5     20.0      601.66\n",
              "14     15.0        175.0             7.5     20.0      622.66\n",
              "9      10.0        175.0            10.0     15.0      650.66\n",
              "11     12.0        175.0            10.0     25.0      658.66\n",
              "1       2.0        200.0             5.0     20.0      582.66\n",
              "5       6.0        200.0             7.5     15.0      460.66\n",
              "7       8.0        200.0             7.5     25.0      602.66\n",
              "3       4.0        200.0            10.0     20.0      565.66"
            ]
          },
          "metadata": {
            "tags": []
          },
          "execution_count": 15
        }
      ]
    },
    {
      "metadata": {
        "id": "Vlxj9tlz0PG9",
        "colab_type": "code",
        "outputId": "cee61057-bf0c-4e6a-eea3-d3d28dc1ebe5",
        "colab": {
          "base_uri": "https://localhost:8080/",
          "height": 34
        }
      },
      "cell_type": "code",
      "source": [
        "df.shape"
      ],
      "execution_count": 16,
      "outputs": [
        {
          "output_type": "execute_result",
          "data": {
            "text/plain": [
              "(15, 5)"
            ]
          },
          "metadata": {
            "tags": []
          },
          "execution_count": 16
        }
      ]
    },
    {
      "metadata": {
        "id": "NFzVr85_0PHX",
        "colab_type": "text"
      },
      "cell_type": "markdown",
      "source": [
        "Con las medidas de éste dataframe de entrada podemos decir que faltan corridas por evaluar, ya que tenemos sólo 15 cuando deberíamos tener 27"
      ]
    },
    {
      "metadata": {
        "id": "sAAXZ0Pm0PHc",
        "colab_type": "text"
      },
      "cell_type": "markdown",
      "source": [
        "--------------------------------------------------------------"
      ]
    },
    {
      "metadata": {
        "id": "OscGqQDv0PHh",
        "colab_type": "text"
      },
      "cell_type": "markdown",
      "source": [
        "**b.** Genere un modelo de primer y de segundo orden: ¿Cuál modelo utilizaría para concluir la optimización y por qué? Genere la gráfica X y Y de predichos y experimentales."
      ]
    },
    {
      "metadata": {
        "id": "aHqqkTp50PHn",
        "colab_type": "code",
        "colab": {}
      },
      "cell_type": "code",
      "source": [
        "# Generamos un modelo de primer order usando StatsModels\n",
        "model_sm = sm.OLS(df['viscosidad'].values, df.drop(['viscosidad','corrida'],axis = 1), hasconst=True).fit()"
      ],
      "execution_count": 0,
      "outputs": []
    },
    {
      "metadata": {
        "id": "wYVOMdEd0PH1",
        "colab_type": "code",
        "outputId": "62a68089-7d4a-4376-a6f5-ab9e61b04a62",
        "colab": {
          "base_uri": "https://localhost:8080/",
          "height": 458
        }
      },
      "cell_type": "code",
      "source": [
        "model_sm.summary()"
      ],
      "execution_count": 18,
      "outputs": [
        {
          "output_type": "stream",
          "text": [
            "/usr/local/lib/python3.6/dist-packages/scipy/stats/stats.py:1334: UserWarning: kurtosistest only valid for n>=20 ... continuing anyway, n=15\n",
            "  \"anyway, n=%i\" % int(n))\n"
          ],
          "name": "stderr"
        },
        {
          "output_type": "execute_result",
          "data": {
            "text/html": [
              "<table class=\"simpletable\">\n",
              "<caption>OLS Regression Results</caption>\n",
              "<tr>\n",
              "  <th>Dep. Variable:</th>            <td>y</td>        <th>  R-squared:         </th> <td>  -0.193</td>\n",
              "</tr>\n",
              "<tr>\n",
              "  <th>Model:</th>                   <td>OLS</td>       <th>  Adj. R-squared:    </th> <td>  -0.392</td>\n",
              "</tr>\n",
              "<tr>\n",
              "  <th>Method:</th>             <td>Least Squares</td>  <th>  F-statistic:       </th> <td> -0.9727</td>\n",
              "</tr>\n",
              "<tr>\n",
              "  <th>Date:</th>             <td>Mon, 05 Nov 2018</td> <th>  Prob (F-statistic):</th>  <td>  1.00</td> \n",
              "</tr>\n",
              "<tr>\n",
              "  <th>Time:</th>                 <td>22:02:29</td>     <th>  Log-Likelihood:    </th> <td> -88.240</td>\n",
              "</tr>\n",
              "<tr>\n",
              "  <th>No. Observations:</th>      <td>    15</td>      <th>  AIC:               </th> <td>   182.5</td>\n",
              "</tr>\n",
              "<tr>\n",
              "  <th>Df Residuals:</th>          <td>    12</td>      <th>  BIC:               </th> <td>   184.6</td>\n",
              "</tr>\n",
              "<tr>\n",
              "  <th>Df Model:</th>              <td>     2</td>      <th>                     </th>     <td> </td>   \n",
              "</tr>\n",
              "<tr>\n",
              "  <th>Covariance Type:</th>      <td>nonrobust</td>    <th>                     </th>     <td> </td>   \n",
              "</tr>\n",
              "</table>\n",
              "<table class=\"simpletable\">\n",
              "<tr>\n",
              "         <td></td>           <th>coef</th>     <th>std err</th>      <th>t</th>      <th>P>|t|</th>  <th>[0.025</th>    <th>0.975]</th>  \n",
              "</tr>\n",
              "<tr>\n",
              "  <th>temperatura</th>    <td>    2.3789</td> <td>    0.803</td> <td>    2.961</td> <td> 0.012</td> <td>    0.629</td> <td>    4.129</td>\n",
              "</tr>\n",
              "<tr>\n",
              "  <th>tasa_agitacion</th> <td>   19.6383</td> <td>   12.871</td> <td>    1.526</td> <td> 0.153</td> <td>   -8.404</td> <td>   47.681</td>\n",
              "</tr>\n",
              "<tr>\n",
              "  <th>presion</th>        <td>    0.5255</td> <td>    6.082</td> <td>    0.086</td> <td> 0.933</td> <td>  -12.726</td> <td>   13.777</td>\n",
              "</tr>\n",
              "</table>\n",
              "<table class=\"simpletable\">\n",
              "<tr>\n",
              "  <th>Omnibus:</th>       <td> 2.827</td> <th>  Durbin-Watson:     </th> <td>   1.992</td>\n",
              "</tr>\n",
              "<tr>\n",
              "  <th>Prob(Omnibus):</th> <td> 0.243</td> <th>  Jarque-Bera (JB):  </th> <td>   1.826</td>\n",
              "</tr>\n",
              "<tr>\n",
              "  <th>Skew:</th>          <td>-0.845</td> <th>  Prob(JB):          </th> <td>   0.401</td>\n",
              "</tr>\n",
              "<tr>\n",
              "  <th>Kurtosis:</th>      <td> 2.745</td> <th>  Cond. No.          </th> <td>    91.5</td>\n",
              "</tr>\n",
              "</table>"
            ],
            "text/plain": [
              "<class 'statsmodels.iolib.summary.Summary'>\n",
              "\"\"\"\n",
              "                            OLS Regression Results                            \n",
              "==============================================================================\n",
              "Dep. Variable:                      y   R-squared:                      -0.193\n",
              "Model:                            OLS   Adj. R-squared:                 -0.392\n",
              "Method:                 Least Squares   F-statistic:                   -0.9727\n",
              "Date:                Mon, 05 Nov 2018   Prob (F-statistic):               1.00\n",
              "Time:                        22:02:29   Log-Likelihood:                -88.240\n",
              "No. Observations:                  15   AIC:                             182.5\n",
              "Df Residuals:                      12   BIC:                             184.6\n",
              "Df Model:                           2                                         \n",
              "Covariance Type:            nonrobust                                         \n",
              "==================================================================================\n",
              "                     coef    std err          t      P>|t|      [0.025      0.975]\n",
              "----------------------------------------------------------------------------------\n",
              "temperatura        2.3789      0.803      2.961      0.012       0.629       4.129\n",
              "tasa_agitacion    19.6383     12.871      1.526      0.153      -8.404      47.681\n",
              "presion            0.5255      6.082      0.086      0.933     -12.726      13.777\n",
              "==============================================================================\n",
              "Omnibus:                        2.827   Durbin-Watson:                   1.992\n",
              "Prob(Omnibus):                  0.243   Jarque-Bera (JB):                1.826\n",
              "Skew:                          -0.845   Prob(JB):                        0.401\n",
              "Kurtosis:                       2.745   Cond. No.                         91.5\n",
              "==============================================================================\n",
              "\n",
              "Warnings:\n",
              "[1] Standard Errors assume that the covariance matrix of the errors is correctly specified.\n",
              "\"\"\""
            ]
          },
          "metadata": {
            "tags": []
          },
          "execution_count": 18
        }
      ]
    },
    {
      "metadata": {
        "id": "mnOgW5wQ0PIP",
        "colab_type": "code",
        "outputId": "a53ee14f-8f3b-4efb-a15b-fee4e15bc9f5",
        "colab": {
          "base_uri": "https://localhost:8080/",
          "height": 34
        }
      },
      "cell_type": "code",
      "source": [
        "#Probamos nuestro modelo con los valores del primer registro de nuestro dataset\n",
        "model_sm.predict([150, 5, 20])"
      ],
      "execution_count": 19,
      "outputs": [
        {
          "output_type": "execute_result",
          "data": {
            "text/plain": [
              "array([465.54078712])"
            ]
          },
          "metadata": {
            "tags": []
          },
          "execution_count": 19
        }
      ]
    },
    {
      "metadata": {
        "id": "ddqoHjWG0PIu",
        "colab_type": "code",
        "outputId": "a7887f1b-924d-4d35-d9f3-91e989c43f0b",
        "colab": {
          "base_uri": "https://localhost:8080/",
          "height": 34
        }
      },
      "cell_type": "code",
      "source": [
        "#Generamos un modelo usando LinearRegression de sklearn\n",
        "model_skl = LinearRegression()\n",
        "model_skl.fit(df.drop(['viscosidad','corrida'], axis=1),df['viscosidad'])"
      ],
      "execution_count": 20,
      "outputs": [
        {
          "output_type": "execute_result",
          "data": {
            "text/plain": [
              "LinearRegression(copy_X=True, fit_intercept=True, n_jobs=1, normalize=False)"
            ]
          },
          "metadata": {
            "tags": []
          },
          "execution_count": 20
        }
      ]
    },
    {
      "metadata": {
        "id": "8IB-juvr0PJD",
        "colab_type": "code",
        "outputId": "6d43fa27-d9d3-4e0d-f38a-e0fa20e3704b",
        "colab": {
          "base_uri": "https://localhost:8080/",
          "height": 34
        }
      },
      "cell_type": "code",
      "source": [
        "#Probamos nuestro modelo con los valores del primer registro de nuestro dataset\n",
        "model_skl.predict([[150, 5, 20]])"
      ],
      "execution_count": 21,
      "outputs": [
        {
          "output_type": "execute_result",
          "data": {
            "text/plain": [
              "array([540.92666667])"
            ]
          },
          "metadata": {
            "tags": []
          },
          "execution_count": 21
        }
      ]
    },
    {
      "metadata": {
        "scrolled": true,
        "id": "CHRZe7GI0PJg",
        "colab_type": "code",
        "outputId": "a606e55a-1eca-4545-d79e-4083fc4cf0e8",
        "colab": {
          "base_uri": "https://localhost:8080/",
          "height": 52
        }
      },
      "cell_type": "code",
      "source": [
        "#Mostramos los coeficientes y el intercepto del modelo generado\n",
        "print(model_skl.coef_)\n",
        "print(model_skl.intercept_)"
      ],
      "execution_count": 22,
      "outputs": [
        {
          "output_type": "stream",
          "text": [
            "[ 0.375 11.05  -5.2  ]\n",
            "533.4266666666666\n"
          ],
          "name": "stdout"
        }
      ]
    },
    {
      "metadata": {
        "id": "8-ZWnOkk0PKN",
        "colab_type": "code",
        "colab": {}
      },
      "cell_type": "code",
      "source": [
        "#Tomamos los valores medidos entregados en el dataset\n",
        "medido = df['viscosidad'].values"
      ],
      "execution_count": 0,
      "outputs": []
    },
    {
      "metadata": {
        "id": "x_4Xj38Q0PKw",
        "colab_type": "code",
        "colab": {}
      },
      "cell_type": "code",
      "source": [
        "#Tomamos un array con las caracteristicas\n",
        "x_data = df.drop(['viscosidad','corrida'], axis=1).values"
      ],
      "execution_count": 0,
      "outputs": []
    },
    {
      "metadata": {
        "id": "iN0ycA3O0PK4",
        "colab_type": "code",
        "colab": {}
      },
      "cell_type": "code",
      "source": [
        "#Tomamos los valores predichos por nuestro primer modelo\n",
        "predicho_model_sm = np.array([model_sm.predict([e[0],e[1],e[2]]) for e in x_data])"
      ],
      "execution_count": 0,
      "outputs": []
    },
    {
      "metadata": {
        "id": "Uj5gjm2E0PLB",
        "colab_type": "code",
        "colab": {}
      },
      "cell_type": "code",
      "source": [
        "#Tomamos los valores predichos por nuestro segundo modelo\n",
        "predicho_model_skl = np.array([model_skl.predict([[e[0],e[1],e[2]]]) for e in x_data])"
      ],
      "execution_count": 0,
      "outputs": []
    },
    {
      "metadata": {
        "id": "AsNXGsqR0PLP",
        "colab_type": "code",
        "outputId": "97b66f5d-9bd2-4662-ebca-3d86488f61f1",
        "colab": {
          "base_uri": "https://localhost:8080/",
          "height": 364
        }
      },
      "cell_type": "code",
      "source": [
        "#Generamos una gráfica para mirar que tan dispersos estan los datos medidos vs los predichos con el primer modelo\n",
        "plt.scatter(predicho_model_sm,medido)\n",
        "plt.plot(list(range(450,700)),list(range(450,700)), color = 'red')"
      ],
      "execution_count": 27,
      "outputs": [
        {
          "output_type": "execute_result",
          "data": {
            "text/plain": [
              "[<matplotlib.lines.Line2D at 0x7f73fb3f6cc0>]"
            ]
          },
          "metadata": {
            "tags": []
          },
          "execution_count": 27
        },
        {
          "output_type": "display_data",
          "data": {
            "image/png": "[encoded data removed]",
            "text/plain": [
              "<matplotlib.figure.Figure at 0x7f73fb3f6b38>"
            ]
          },
          "metadata": {
            "tags": []
          }
        }
      ]
    },
    {
      "metadata": {
        "id": "VQu7oAl40PLV",
        "colab_type": "code",
        "outputId": "a5eb8ad2-24ea-4a68-c567-81d0602be538",
        "colab": {
          "base_uri": "https://localhost:8080/",
          "height": 364
        }
      },
      "cell_type": "code",
      "source": [
        "#Generamos una gráfica para mirar que tan dispersos estan los datos medidos vs los predichos con el segundo modelo\n",
        "plt.scatter(predicho_model_skl, medido)\n",
        "plt.plot(list(range(450,700)),list(range(450,700)), color = 'red')"
      ],
      "execution_count": 37,
      "outputs": [
        {
          "output_type": "execute_result",
          "data": {
            "text/plain": [
              "[<matplotlib.lines.Line2D at 0x7f73f8baaeb8>]"
            ]
          },
          "metadata": {
            "tags": []
          },
          "execution_count": 37
        },
        {
          "output_type": "display_data",
          "data": {
            "image/png": "[encoded data removed]",
            "text/plain": [
              "<matplotlib.figure.Figure at 0x7f73f8baaa58>"
            ]
          },
          "metadata": {
            "tags": []
          }
        }
      ]
    },
    {
      "metadata": {
        "id": "Fi_QuIq_1Y8d",
        "colab_type": "code",
        "outputId": "fa7aeab4-10e8-4136-90c0-054c8fc753cb",
        "colab": {
          "base_uri": "https://localhost:8080/",
          "height": 34
        }
      },
      "cell_type": "code",
      "source": [
        "\n",
        "from sklearn.metrics import r2_score\n",
        "# Explained variance score: 1 is perfect prediction\n",
        "print('r_2 score: %.2f' % r2_score(df['viscosidad'].values, predicho_model_skl))"
      ],
      "execution_count": 44,
      "outputs": [
        {
          "output_type": "stream",
          "text": [
            "r_2 score: 0.13\n"
          ],
          "name": "stdout"
        }
      ]
    },
    {
      "metadata": {
        "id": "Fp7yOAVWBQEl",
        "colab_type": "text"
      },
      "cell_type": "markdown",
      "source": [
        "El R cuadrádo de este modelo es de 0.13, es decir, este modelo explica el 13% de los datos, diferente al valor negativo de R cuadrádo que teniamos en el primer modelo."
      ]
    },
    {
      "metadata": {
        "id": "S8MvIwjh0PLf",
        "colab_type": "text"
      },
      "cell_type": "markdown",
      "source": [
        "Se puede notar una menor dispersion de los datos cuando usamos el modelos generado por sklearn.LinearRegression"
      ]
    },
    {
      "metadata": {
        "id": "9ZdeEPUK0PLg",
        "colab_type": "text"
      },
      "cell_type": "markdown",
      "source": [
        "--------"
      ]
    },
    {
      "metadata": {
        "id": "VRLyfIEB0PND",
        "colab_type": "text"
      },
      "cell_type": "markdown",
      "source": [
        "**c.** ¿Cuáles son las condiciones de operación óptimas si se desea obtener una viscosidad de 600?"
      ]
    },
    {
      "metadata": {
        "id": "X1qabadU0PNL",
        "colab_type": "text"
      },
      "cell_type": "markdown",
      "source": [
        "**d.** ¿Cuáles son los factores que afectan de manera significativa la viscosidad?, determine la tabla ANOVA y concluya cuál considera usted que es el cuello de botella del proceso"
      ]
    },
    {
      "metadata": {
        "id": "JtbfazogIgE5",
        "colab_type": "text"
      },
      "cell_type": "markdown",
      "source": [
        "El modelo generado por sklearn puede obtenerse también usando statsmodels, en este caso debemos usar formulas para obtenerlo; mecesitamos generar este modelo para poder generar la tabla ANOVA necesaria para este ejercicio"
      ]
    },
    {
      "metadata": {
        "id": "NQgvK-sgFtTY",
        "colab_type": "code",
        "colab": {
          "base_uri": "https://localhost:8080/",
          "height": 480
        },
        "outputId": "af10dd6c-6bb3-4ad5-e329-d6fbc8e64398"
      },
      "cell_type": "code",
      "source": [
        "#Creamos un modelo usando formulas\n",
        "model_smf = smf.ols('viscosidad ~ temperatura + tasa_agitacion + presion',df.drop('corrida',axis =1)).fit()\n",
        "model_smf.summary()"
      ],
      "execution_count": 71,
      "outputs": [
        {
          "output_type": "stream",
          "text": [
            "/usr/local/lib/python3.6/dist-packages/scipy/stats/stats.py:1334: UserWarning: kurtosistest only valid for n>=20 ... continuing anyway, n=15\n",
            "  \"anyway, n=%i\" % int(n))\n"
          ],
          "name": "stderr"
        },
        {
          "output_type": "execute_result",
          "data": {
            "text/html": [
              "<table class=\"simpletable\">\n",
              "<caption>OLS Regression Results</caption>\n",
              "<tr>\n",
              "  <th>Dep. Variable:</th>       <td>viscosidad</td>    <th>  R-squared:         </th> <td>   0.129</td>\n",
              "</tr>\n",
              "<tr>\n",
              "  <th>Model:</th>                   <td>OLS</td>       <th>  Adj. R-squared:    </th> <td>  -0.109</td>\n",
              "</tr>\n",
              "<tr>\n",
              "  <th>Method:</th>             <td>Least Squares</td>  <th>  F-statistic:       </th> <td>  0.5429</td>\n",
              "</tr>\n",
              "<tr>\n",
              "  <th>Date:</th>             <td>Mon, 05 Nov 2018</td> <th>  Prob (F-statistic):</th>  <td> 0.663</td> \n",
              "</tr>\n",
              "<tr>\n",
              "  <th>Time:</th>                 <td>23:09:21</td>     <th>  Log-Likelihood:    </th> <td> -85.878</td>\n",
              "</tr>\n",
              "<tr>\n",
              "  <th>No. Observations:</th>      <td>    15</td>      <th>  AIC:               </th> <td>   179.8</td>\n",
              "</tr>\n",
              "<tr>\n",
              "  <th>Df Residuals:</th>          <td>    11</td>      <th>  BIC:               </th> <td>   182.6</td>\n",
              "</tr>\n",
              "<tr>\n",
              "  <th>Df Model:</th>              <td>     3</td>      <th>                     </th>     <td> </td>   \n",
              "</tr>\n",
              "<tr>\n",
              "  <th>Covariance Type:</th>      <td>nonrobust</td>    <th>                     </th>     <td> </td>   \n",
              "</tr>\n",
              "</table>\n",
              "<table class=\"simpletable\">\n",
              "<tr>\n",
              "         <td></td>           <th>coef</th>     <th>std err</th>      <th>t</th>      <th>P>|t|</th>  <th>[0.025</th>    <th>0.975]</th>  \n",
              "</tr>\n",
              "<tr>\n",
              "  <th>Intercept</th>      <td>  533.4267</td> <td>  264.340</td> <td>    2.018</td> <td> 0.069</td> <td>  -48.382</td> <td> 1115.235</td>\n",
              "</tr>\n",
              "<tr>\n",
              "  <th>temperatura</th>    <td>    0.3750</td> <td>    1.225</td> <td>    0.306</td> <td> 0.765</td> <td>   -2.321</td> <td>    3.071</td>\n",
              "</tr>\n",
              "<tr>\n",
              "  <th>tasa_agitacion</th> <td>   11.0500</td> <td>   12.247</td> <td>    0.902</td> <td> 0.386</td> <td>  -15.907</td> <td>   38.007</td>\n",
              "</tr>\n",
              "<tr>\n",
              "  <th>presion</th>        <td>   -5.2000</td> <td>    6.124</td> <td>   -0.849</td> <td> 0.414</td> <td>  -18.678</td> <td>    8.278</td>\n",
              "</tr>\n",
              "</table>\n",
              "<table class=\"simpletable\">\n",
              "<tr>\n",
              "  <th>Omnibus:</th>       <td>10.389</td> <th>  Durbin-Watson:     </th> <td>   1.454</td>\n",
              "</tr>\n",
              "<tr>\n",
              "  <th>Prob(Omnibus):</th> <td> 0.006</td> <th>  Jarque-Bera (JB):  </th> <td>   6.693</td>\n",
              "</tr>\n",
              "<tr>\n",
              "  <th>Skew:</th>          <td>-1.507</td> <th>  Prob(JB):          </th> <td>  0.0352</td>\n",
              "</tr>\n",
              "<tr>\n",
              "  <th>Kurtosis:</th>      <td> 4.272</td> <th>  Cond. No.          </th> <td>2.10e+03</td>\n",
              "</tr>\n",
              "</table>"
            ],
            "text/plain": [
              "<class 'statsmodels.iolib.summary.Summary'>\n",
              "\"\"\"\n",
              "                            OLS Regression Results                            \n",
              "==============================================================================\n",
              "Dep. Variable:             viscosidad   R-squared:                       0.129\n",
              "Model:                            OLS   Adj. R-squared:                 -0.109\n",
              "Method:                 Least Squares   F-statistic:                    0.5429\n",
              "Date:                Mon, 05 Nov 2018   Prob (F-statistic):              0.663\n",
              "Time:                        23:09:21   Log-Likelihood:                -85.878\n",
              "No. Observations:                  15   AIC:                             179.8\n",
              "Df Residuals:                      11   BIC:                             182.6\n",
              "Df Model:                           3                                         \n",
              "Covariance Type:            nonrobust                                         \n",
              "==================================================================================\n",
              "                     coef    std err          t      P>|t|      [0.025      0.975]\n",
              "----------------------------------------------------------------------------------\n",
              "Intercept        533.4267    264.340      2.018      0.069     -48.382    1115.235\n",
              "temperatura        0.3750      1.225      0.306      0.765      -2.321       3.071\n",
              "tasa_agitacion    11.0500     12.247      0.902      0.386     -15.907      38.007\n",
              "presion           -5.2000      6.124     -0.849      0.414     -18.678       8.278\n",
              "==============================================================================\n",
              "Omnibus:                       10.389   Durbin-Watson:                   1.454\n",
              "Prob(Omnibus):                  0.006   Jarque-Bera (JB):                6.693\n",
              "Skew:                          -1.507   Prob(JB):                       0.0352\n",
              "Kurtosis:                       4.272   Cond. No.                     2.10e+03\n",
              "==============================================================================\n",
              "\n",
              "Warnings:\n",
              "[1] Standard Errors assume that the covariance matrix of the errors is correctly specified.\n",
              "[2] The condition number is large, 2.1e+03. This might indicate that there are\n",
              "strong multicollinearity or other numerical problems.\n",
              "\"\"\""
            ]
          },
          "metadata": {
            "tags": []
          },
          "execution_count": 71
        }
      ]
    },
    {
      "metadata": {
        "id": "1PWXzcP4H5go",
        "colab_type": "code",
        "colab": {
          "base_uri": "https://localhost:8080/",
          "height": 175
        },
        "outputId": "0b13d94a-ded2-44df-f2ea-fb38e09a64b6"
      },
      "cell_type": "code",
      "source": [
        "\n",
        "table = sm.stats.anova_lm(model_smf, typ=2)\n",
        "table"
      ],
      "execution_count": 72,
      "outputs": [
        {
          "output_type": "execute_result",
          "data": {
            "text/html": [
              "<div>\n",
              "<style scoped>\n",
              "    .dataframe tbody tr th:only-of-type {\n",
              "        vertical-align: middle;\n",
              "    }\n",
              "\n",
              "    .dataframe tbody tr th {\n",
              "        vertical-align: top;\n",
              "    }\n",
              "\n",
              "    .dataframe thead th {\n",
              "        text-align: right;\n",
              "    }\n",
              "</style>\n",
              "<table border=\"1\" class=\"dataframe\">\n",
              "  <thead>\n",
              "    <tr style=\"text-align: right;\">\n",
              "      <th></th>\n",
              "      <th>sum_sq</th>\n",
              "      <th>df</th>\n",
              "      <th>F</th>\n",
              "      <th>PR(&gt;F)</th>\n",
              "    </tr>\n",
              "  </thead>\n",
              "  <tbody>\n",
              "    <tr>\n",
              "      <th>temperatura</th>\n",
              "      <td>703.125000</td>\n",
              "      <td>1.0</td>\n",
              "      <td>0.093749</td>\n",
              "      <td>0.765181</td>\n",
              "    </tr>\n",
              "    <tr>\n",
              "      <th>tasa_agitacion</th>\n",
              "      <td>6105.125000</td>\n",
              "      <td>1.0</td>\n",
              "      <td>0.814010</td>\n",
              "      <td>0.386267</td>\n",
              "    </tr>\n",
              "    <tr>\n",
              "      <th>presion</th>\n",
              "      <td>5408.000000</td>\n",
              "      <td>1.0</td>\n",
              "      <td>0.721061</td>\n",
              "      <td>0.413895</td>\n",
              "    </tr>\n",
              "    <tr>\n",
              "      <th>Residual</th>\n",
              "      <td>82500.683333</td>\n",
              "      <td>11.0</td>\n",
              "      <td>NaN</td>\n",
              "      <td>NaN</td>\n",
              "    </tr>\n",
              "  </tbody>\n",
              "</table>\n",
              "</div>"
            ],
            "text/plain": [
              "                      sum_sq    df         F    PR(>F)\n",
              "temperatura       703.125000   1.0  0.093749  0.765181\n",
              "tasa_agitacion   6105.125000   1.0  0.814010  0.386267\n",
              "presion          5408.000000   1.0  0.721061  0.413895\n",
              "Residual        82500.683333  11.0       NaN       NaN"
            ]
          },
          "metadata": {
            "tags": []
          },
          "execution_count": 72
        }
      ]
    },
    {
      "metadata": {
        "id": "gNzLy115I4Rp",
        "colab_type": "text"
      },
      "cell_type": "markdown",
      "source": [
        "Normalmente evaluamos primero si el valor de P es menor a la significancia, en este caso todos los valores de P son mayores a la significancia; esto quiere decir que en realidad todas las variables son poco significativas, esto puede deberse a la falta de información ya que sólo tenemos 15 corridas cuando se esperan 27.\n",
        "\n",
        "Sin embargo podemos decir que la variable que mas afecta la salida es la tasa de agitacion, porque ésta posee un valor de P menor que las demás; la variable que menos afecta la salida es la temperatura\n",
        "\n"
      ]
    },
    {
      "metadata": {
        "id": "gV1aZIxU0PNN",
        "colab_type": "text"
      },
      "cell_type": "markdown",
      "source": [
        "**e.** Construya las superficies de respuesta para la interacción de todos los factores ¿Cuál sería el tratamiento que maximiza la viscosidad?"
      ]
    },
    {
      "metadata": {
        "id": "8mTVfSks0PNX",
        "colab_type": "text"
      },
      "cell_type": "markdown",
      "source": [
        ""
      ]
    }
  ]
}