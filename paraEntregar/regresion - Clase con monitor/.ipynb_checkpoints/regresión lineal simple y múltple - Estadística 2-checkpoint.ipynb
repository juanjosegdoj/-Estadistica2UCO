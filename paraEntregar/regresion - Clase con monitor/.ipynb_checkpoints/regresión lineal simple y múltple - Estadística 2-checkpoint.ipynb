{
 "cells": [
  {
   "cell_type": "markdown",
   "metadata": {},
   "source": [
    "# REGRESIÓN LINEAL SIMPLE"
   ]
  },
  {
   "cell_type": "code",
   "execution_count": 3,
   "metadata": {},
   "outputs": [],
   "source": [
    "# Importo librerias necesarias\n",
    "import pandas as pd\n",
    "import numpy as np\n",
    "import matplotlib.pyplot as plt\n",
    "from sklearn.metrics import mean_squared_error\n",
    "from sklearn import linear_model\n",
    "from scipy.stats.stats import pearsonr\n",
    "import statsmodels.stats.api as sms\n",
    "\n",
    "# test \n",
    "from statsmodels.stats.stattools import durbin_watson  # Durbin Watson Test\n",
    "from scipy.stats import ks_2samp # Kolmogorv Test "
   ]
  },
  {
   "cell_type": "code",
   "execution_count": 4,
   "metadata": {},
   "outputs": [],
   "source": [
    "# Cargo los datos y los organizo\n",
    "df = pd.DataFrame({\n",
    "    'ingreso':[45, 20, 40, 47, 30, 25, 20, 15, 35, 40, 55, 50, 60, 15, 30, 35, 45],\n",
    "    'seguro':[70, 50, 60, 50, 55, 55, 55, 35, 40, 65, 75, 105, 110, 34, 30, 40, 65],\n",
    "})\n",
    "length = len(df)\n",
    "x = df[\"ingreso\"]\n",
    "y = df[\"seguro\"]\n",
    "x = x.values.reshape(length, 1)\n",
    "y = y.values.reshape(length, 1)"
   ]
  },
  {
   "cell_type": "code",
   "execution_count": 5,
   "metadata": {},
   "outputs": [
    {
     "ename": "AttributeError",
     "evalue": "'Series' object has no attribute 'target'",
     "output_type": "error",
     "traceback": [
      "\u001b[1;31m---------------------------------------------------------------------------\u001b[0m",
      "\u001b[1;31mAttributeError\u001b[0m                            Traceback (most recent call last)",
      "\u001b[1;32m<ipython-input-5-7a61245ca91e>\u001b[0m in \u001b[0;36m<module>\u001b[1;34m()\u001b[0m\n\u001b[0;32m      1\u001b[0m \u001b[1;31m# Entreno el modelo\u001b[0m\u001b[1;33m\u001b[0m\u001b[1;33m\u001b[0m\u001b[0m\n\u001b[0;32m      2\u001b[0m \u001b[0mlm\u001b[0m \u001b[1;33m=\u001b[0m \u001b[0mlinear_model\u001b[0m\u001b[1;33m.\u001b[0m\u001b[0mLinearRegression\u001b[0m\u001b[1;33m(\u001b[0m\u001b[1;33m)\u001b[0m\u001b[1;33m\u001b[0m\u001b[0m\n\u001b[1;32m----> 3\u001b[1;33m \u001b[0mmodel\u001b[0m \u001b[1;33m=\u001b[0m \u001b[0mlm\u001b[0m\u001b[1;33m.\u001b[0m\u001b[0mfit\u001b[0m\u001b[1;33m(\u001b[0m\u001b[0mx\u001b[0m\u001b[1;33m.\u001b[0m\u001b[0mtarget\u001b[0m\u001b[1;33m[\u001b[0m\u001b[1;33m:\u001b[0m\u001b[1;33m]\u001b[0m\u001b[1;33m,\u001b[0m \u001b[0my\u001b[0m\u001b[1;33m.\u001b[0m\u001b[0mtarget\u001b[0m\u001b[1;33m[\u001b[0m\u001b[1;33m:\u001b[0m\u001b[1;33m]\u001b[0m\u001b[1;33m)\u001b[0m\u001b[1;33m\u001b[0m\u001b[0m\n\u001b[0m\u001b[0;32m      4\u001b[0m \u001b[0mpredictions\u001b[0m \u001b[1;33m=\u001b[0m  \u001b[0mlm\u001b[0m\u001b[1;33m.\u001b[0m\u001b[0mpredict\u001b[0m\u001b[1;33m(\u001b[0m\u001b[0mx\u001b[0m\u001b[1;33m)\u001b[0m\u001b[1;33m\u001b[0m\u001b[0m\n",
      "\u001b[1;32mC:\\ProgramData\\Anaconda3\\lib\\site-packages\\pandas\\core\\generic.py\u001b[0m in \u001b[0;36m__getattr__\u001b[1;34m(self, name)\u001b[0m\n\u001b[0;32m   4370\u001b[0m             \u001b[1;32mif\u001b[0m \u001b[0mself\u001b[0m\u001b[1;33m.\u001b[0m\u001b[0m_info_axis\u001b[0m\u001b[1;33m.\u001b[0m\u001b[0m_can_hold_identifiers_and_holds_name\u001b[0m\u001b[1;33m(\u001b[0m\u001b[0mname\u001b[0m\u001b[1;33m)\u001b[0m\u001b[1;33m:\u001b[0m\u001b[1;33m\u001b[0m\u001b[0m\n\u001b[0;32m   4371\u001b[0m                 \u001b[1;32mreturn\u001b[0m \u001b[0mself\u001b[0m\u001b[1;33m[\u001b[0m\u001b[0mname\u001b[0m\u001b[1;33m]\u001b[0m\u001b[1;33m\u001b[0m\u001b[0m\n\u001b[1;32m-> 4372\u001b[1;33m             \u001b[1;32mreturn\u001b[0m \u001b[0mobject\u001b[0m\u001b[1;33m.\u001b[0m\u001b[0m__getattribute__\u001b[0m\u001b[1;33m(\u001b[0m\u001b[0mself\u001b[0m\u001b[1;33m,\u001b[0m \u001b[0mname\u001b[0m\u001b[1;33m)\u001b[0m\u001b[1;33m\u001b[0m\u001b[0m\n\u001b[0m\u001b[0;32m   4373\u001b[0m \u001b[1;33m\u001b[0m\u001b[0m\n\u001b[0;32m   4374\u001b[0m     \u001b[1;32mdef\u001b[0m \u001b[0m__setattr__\u001b[0m\u001b[1;33m(\u001b[0m\u001b[0mself\u001b[0m\u001b[1;33m,\u001b[0m \u001b[0mname\u001b[0m\u001b[1;33m,\u001b[0m \u001b[0mvalue\u001b[0m\u001b[1;33m)\u001b[0m\u001b[1;33m:\u001b[0m\u001b[1;33m\u001b[0m\u001b[0m\n",
      "\u001b[1;31mAttributeError\u001b[0m: 'Series' object has no attribute 'target'"
     ]
    }
   ],
   "source": [
    "# Entreno el modelo\n",
    "lm = linear_model.LinearRegression()\n",
    "model = lm.fit(x, y)\n",
    "predictions =  lm.predict(x)"
   ]
  },
  {
   "cell_type": "code",
   "execution_count": 165,
   "metadata": {},
   "outputs": [
    {
     "data": {
      "text/plain": [
       "<matplotlib.collections.PathCollection at 0x2044d4fd0f0>"
      ]
     },
     "execution_count": 165,
     "metadata": {},
     "output_type": "execute_result"
    },
    {
     "data": {
      "image/png": "[encoded data removed]",
      "text/plain": [
       "<Figure size 432x288 with 1 Axes>"
      ]
     },
     "metadata": {},
     "output_type": "display_data"
    }
   ],
   "source": [
    "# Grafico el resultado\n",
    "plt.plot(x,predictions, color='blue', linewidth=3)\n",
    "plt.scatter(x, y,  color='black')"
   ]
  },
  {
   "cell_type": "code",
   "execution_count": 166,
   "metadata": {},
   "outputs": [
    {
     "data": {
      "text/plain": [
       "array([[1.24141539]])"
      ]
     },
     "execution_count": 166,
     "metadata": {},
     "output_type": "execute_result"
    }
   ],
   "source": [
    "lm.coef_    # coeficiente de Ingreso"
   ]
  },
  {
   "cell_type": "code",
   "execution_count": 167,
   "metadata": {},
   "outputs": [
    {
     "data": {
      "text/plain": [
       "array([14.14475622])"
      ]
     },
     "execution_count": 167,
     "metadata": {},
     "output_type": "execute_result"
    }
   ],
   "source": [
    "lm.intercept_  # intercepto"
   ]
  },
  {
   "cell_type": "code",
   "execution_count": 168,
   "metadata": {},
   "outputs": [],
   "source": [
    "from sklearn.metrics import r2_score, mean_squared_error\n",
    "r2 = r2_score(y, predictions, multioutput='raw_values')\n",
    "mediaDeError = mean_squared_error(y, predictions, multioutput='raw_values')"
   ]
  },
  {
   "cell_type": "code",
   "execution_count": 169,
   "metadata": {},
   "outputs": [
    {
     "name": "stdout",
     "output_type": "stream",
     "text": [
      "Variance score  0.5749700177881742\n",
      "mean_squared_error  203.4202319017678\n"
     ]
    }
   ],
   "source": [
    "print(\"Variance score \", r2[0])\n",
    "print(\"mean_squared_error \", mediaDeError[0])"
   ]
  },
  {
   "cell_type": "markdown",
   "metadata": {},
   "source": [
    "$ R^{2} = 0.57 $ \n",
    "\n",
    "Con esto podemos concluir que el modelo es capaz de explicar el 57,7 de la variacion exitente entre X y Y o el modelo puede explicar suficientemente el 57,7 de la variación de X y Y"
   ]
  },
  {
   "cell_type": "code",
   "execution_count": 170,
   "metadata": {},
   "outputs": [
    {
     "data": {
      "text/plain": [
       "0.7582677744624087"
      ]
     },
     "execution_count": 170,
     "metadata": {},
     "output_type": "execute_result"
    }
   ],
   "source": [
    "pearsonr(x, y)[0][0]"
   ]
  },
  {
   "cell_type": "code",
   "execution_count": 171,
   "metadata": {},
   "outputs": [
    {
     "data": {
      "text/html": [
       "<div>\n",
       "<style scoped>\n",
       "    .dataframe tbody tr th:only-of-type {\n",
       "        vertical-align: middle;\n",
       "    }\n",
       "\n",
       "    .dataframe tbody tr th {\n",
       "        vertical-align: top;\n",
       "    }\n",
       "\n",
       "    .dataframe thead th {\n",
       "        text-align: right;\n",
       "    }\n",
       "</style>\n",
       "<table border=\"1\" class=\"dataframe\">\n",
       "  <thead>\n",
       "    <tr style=\"text-align: right;\">\n",
       "      <th></th>\n",
       "      <th>ingreso</th>\n",
       "      <th>seguro</th>\n",
       "    </tr>\n",
       "  </thead>\n",
       "  <tbody>\n",
       "    <tr>\n",
       "      <th>ingreso</th>\n",
       "      <td>1.000000</td>\n",
       "      <td>0.758268</td>\n",
       "    </tr>\n",
       "    <tr>\n",
       "      <th>seguro</th>\n",
       "      <td>0.758268</td>\n",
       "      <td>1.000000</td>\n",
       "    </tr>\n",
       "  </tbody>\n",
       "</table>\n",
       "</div>"
      ],
      "text/plain": [
       "          ingreso    seguro\n",
       "ingreso  1.000000  0.758268\n",
       "seguro   0.758268  1.000000"
      ]
     },
     "execution_count": 171,
     "metadata": {},
     "output_type": "execute_result"
    }
   ],
   "source": [
    "df.corr()"
   ]
  },
  {
   "cell_type": "markdown",
   "metadata": {},
   "source": [
    "$ R = pearson = correlación = 0.75827 $\n"
   ]
  },
  {
   "cell_type": "markdown",
   "metadata": {},
   "source": [
    "$ R^{2}  = determinación = variabilidad $"
   ]
  },
  {
   "cell_type": "markdown",
   "metadata": {},
   "source": [
    "- Verificar los supuestos"
   ]
  },
  {
   "cell_type": "code",
   "execution_count": null,
   "metadata": {},
   "outputs": [],
   "source": [
    "\n"
   ]
  },
  {
   "cell_type": "markdown",
   "metadata": {},
   "source": [
    "Implementarlo para regresión múltiple\n",
    "- lineal, multiple, la fuerza de la relación representada en la pendiente y colores."
   ]
  },
  {
   "cell_type": "markdown",
   "metadata": {},
   "source": [
    "# REGRESIÓN LINEAL MÚLTIPLE"
   ]
  },
  {
   "cell_type": "code",
   "execution_count": 1,
   "metadata": {},
   "outputs": [
    {
     "data": {
      "text/html": [
       "<div>\n",
       "<style scoped>\n",
       "    .dataframe tbody tr th:only-of-type {\n",
       "        vertical-align: middle;\n",
       "    }\n",
       "\n",
       "    .dataframe tbody tr th {\n",
       "        vertical-align: top;\n",
       "    }\n",
       "\n",
       "    .dataframe thead th {\n",
       "        text-align: right;\n",
       "    }\n",
       "</style>\n",
       "<table border=\"1\" class=\"dataframe\">\n",
       "  <thead>\n",
       "    <tr style=\"text-align: right;\">\n",
       "      <th></th>\n",
       "      <th>Espe.vida</th>\n",
       "      <th>Apo.social</th>\n",
       "      <th>liber deciciones</th>\n",
       "      <th>Percep corrupcion</th>\n",
       "      <th>Puntuacion de felicidad</th>\n",
       "    </tr>\n",
       "  </thead>\n",
       "  <tbody>\n",
       "    <tr>\n",
       "      <th>0</th>\n",
       "      <td>72.76</td>\n",
       "      <td>0.98</td>\n",
       "      <td>0.94</td>\n",
       "      <td>0.69</td>\n",
       "      <td>7.632</td>\n",
       "    </tr>\n",
       "    <tr>\n",
       "      <th>1</th>\n",
       "      <td>71.57</td>\n",
       "      <td>0.96</td>\n",
       "      <td>0.94</td>\n",
       "      <td>0.23</td>\n",
       "      <td>7.594</td>\n",
       "    </tr>\n",
       "    <tr>\n",
       "      <th>2</th>\n",
       "      <td>71.52</td>\n",
       "      <td>0.96</td>\n",
       "      <td>0.95</td>\n",
       "      <td>0.22</td>\n",
       "      <td>7.555</td>\n",
       "    </tr>\n",
       "    <tr>\n",
       "      <th>3</th>\n",
       "      <td>71.31</td>\n",
       "      <td>0.96</td>\n",
       "      <td>0.95</td>\n",
       "      <td>0.19</td>\n",
       "      <td>7.495</td>\n",
       "    </tr>\n",
       "    <tr>\n",
       "      <th>4</th>\n",
       "      <td>63.03</td>\n",
       "      <td>0.95</td>\n",
       "      <td>0.98</td>\n",
       "      <td>0.47</td>\n",
       "      <td>7.487</td>\n",
       "    </tr>\n",
       "  </tbody>\n",
       "</table>\n",
       "</div>"
      ],
      "text/plain": [
       "   Espe.vida  Apo.social  liber deciciones  Percep corrupcion  \\\n",
       "0      72.76        0.98              0.94               0.69   \n",
       "1      71.57        0.96              0.94               0.23   \n",
       "2      71.52        0.96              0.95               0.22   \n",
       "3      71.31        0.96              0.95               0.19   \n",
       "4      63.03        0.95              0.98               0.47   \n",
       "\n",
       "   Puntuacion de felicidad  \n",
       "0                    7.632  \n",
       "1                    7.594  \n",
       "2                    7.555  \n",
       "3                    7.495  \n",
       "4                    7.487  "
      ]
     },
     "execution_count": 1,
     "metadata": {},
     "output_type": "execute_result"
    }
   ],
   "source": [
    "import statsmodels.api as sm\n",
    "import pandas as pd\n",
    "df = pd.read_csv('multiple.csv', encoding = 'utf8')\n",
    "df.head()"
   ]
  },
  {
   "cell_type": "code",
   "execution_count": 2,
   "metadata": {},
   "outputs": [
    {
     "data": {
      "text/html": [
       "<table class=\"simpletable\">\n",
       "<caption>OLS Regression Results</caption>\n",
       "<tr>\n",
       "  <th>Dep. Variable:</th>    <td>Puntuacion de felicidad</td> <th>  R-squared:         </th> <td>   0.996</td> \n",
       "</tr>\n",
       "<tr>\n",
       "  <th>Model:</th>                      <td>OLS</td>           <th>  Adj. R-squared:    </th> <td>   0.996</td> \n",
       "</tr>\n",
       "<tr>\n",
       "  <th>Method:</th>                <td>Least Squares</td>      <th>  F-statistic:       </th> <td>   9351.</td> \n",
       "</tr>\n",
       "<tr>\n",
       "  <th>Date:</th>                <td>Sat, 03 Nov 2018</td>     <th>  Prob (F-statistic):</th> <td>7.33e-170</td>\n",
       "</tr>\n",
       "<tr>\n",
       "  <th>Time:</th>                    <td>21:48:44</td>         <th>  Log-Likelihood:    </th> <td> -47.985</td> \n",
       "</tr>\n",
       "<tr>\n",
       "  <th>No. Observations:</th>         <td>   145</td>          <th>  AIC:               </th> <td>   104.0</td> \n",
       "</tr>\n",
       "<tr>\n",
       "  <th>Df Residuals:</th>             <td>   141</td>          <th>  BIC:               </th> <td>   115.9</td> \n",
       "</tr>\n",
       "<tr>\n",
       "  <th>Df Model:</th>                 <td>     4</td>          <th>                     </th>     <td> </td>    \n",
       "</tr>\n",
       "<tr>\n",
       "  <th>Covariance Type:</th>         <td>nonrobust</td>        <th>                     </th>     <td> </td>    \n",
       "</tr>\n",
       "</table>\n",
       "<table class=\"simpletable\">\n",
       "<tr>\n",
       "          <td></td>             <th>coef</th>     <th>std err</th>      <th>t</th>      <th>P>|t|</th>  <th>[0.025</th>    <th>0.975]</th>  \n",
       "</tr>\n",
       "<tr>\n",
       "  <th>Espe.vida</th>         <td>    0.0008</td> <td>    0.004</td> <td>    0.181</td> <td> 0.857</td> <td>   -0.008</td> <td>    0.009</td>\n",
       "</tr>\n",
       "<tr>\n",
       "  <th>Apo.social</th>        <td>    7.7820</td> <td>    0.324</td> <td>   24.006</td> <td> 0.000</td> <td>    7.141</td> <td>    8.423</td>\n",
       "</tr>\n",
       "<tr>\n",
       "  <th>liber deciciones</th>  <td>   -0.1019</td> <td>    0.188</td> <td>   -0.542</td> <td> 0.589</td> <td>   -0.474</td> <td>    0.270</td>\n",
       "</tr>\n",
       "<tr>\n",
       "  <th>Percep corrupcion</th> <td>   -1.0976</td> <td>    0.127</td> <td>   -8.662</td> <td> 0.000</td> <td>   -1.348</td> <td>   -0.847</td>\n",
       "</tr>\n",
       "</table>\n",
       "<table class=\"simpletable\">\n",
       "<tr>\n",
       "  <th>Omnibus:</th>       <td>43.157</td> <th>  Durbin-Watson:     </th> <td>   0.577</td>\n",
       "</tr>\n",
       "<tr>\n",
       "  <th>Prob(Omnibus):</th> <td> 0.000</td> <th>  Jarque-Bera (JB):  </th> <td> 113.727</td>\n",
       "</tr>\n",
       "<tr>\n",
       "  <th>Skew:</th>          <td> 1.179</td> <th>  Prob(JB):          </th> <td>2.02e-25</td>\n",
       "</tr>\n",
       "<tr>\n",
       "  <th>Kurtosis:</th>      <td> 6.642</td> <th>  Cond. No.          </th> <td>    736.</td>\n",
       "</tr>\n",
       "</table><br/><br/>Warnings:<br/>[1] Standard Errors assume that the covariance matrix of the errors is correctly specified."
      ],
      "text/plain": [
       "<class 'statsmodels.iolib.summary.Summary'>\n",
       "\"\"\"\n",
       "                               OLS Regression Results                              \n",
       "===================================================================================\n",
       "Dep. Variable:     Puntuacion de felicidad   R-squared:                       0.996\n",
       "Model:                                 OLS   Adj. R-squared:                  0.996\n",
       "Method:                      Least Squares   F-statistic:                     9351.\n",
       "Date:                     Sat, 03 Nov 2018   Prob (F-statistic):          7.33e-170\n",
       "Time:                             21:48:44   Log-Likelihood:                -47.985\n",
       "No. Observations:                      145   AIC:                             104.0\n",
       "Df Residuals:                          141   BIC:                             115.9\n",
       "Df Model:                                4                                         \n",
       "Covariance Type:                 nonrobust                                         \n",
       "=====================================================================================\n",
       "                        coef    std err          t      P>|t|      [0.025      0.975]\n",
       "-------------------------------------------------------------------------------------\n",
       "Espe.vida             0.0008      0.004      0.181      0.857      -0.008       0.009\n",
       "Apo.social            7.7820      0.324     24.006      0.000       7.141       8.423\n",
       "liber deciciones     -0.1019      0.188     -0.542      0.589      -0.474       0.270\n",
       "Percep corrupcion    -1.0976      0.127     -8.662      0.000      -1.348      -0.847\n",
       "==============================================================================\n",
       "Omnibus:                       43.157   Durbin-Watson:                   0.577\n",
       "Prob(Omnibus):                  0.000   Jarque-Bera (JB):              113.727\n",
       "Skew:                           1.179   Prob(JB):                     2.02e-25\n",
       "Kurtosis:                       6.642   Cond. No.                         736.\n",
       "==============================================================================\n",
       "\n",
       "Warnings:\n",
       "[1] Standard Errors assume that the covariance matrix of the errors is correctly specified.\n",
       "\"\"\""
      ]
     },
     "execution_count": 2,
     "metadata": {},
     "output_type": "execute_result"
    }
   ],
   "source": [
    "X = df[[\"Espe.vida\", \"Apo.social\", \"liber deciciones\", \"Percep corrupcion\"]]\n",
    "y = df[[\"Puntuacion de felicidad\"]]\n",
    "\n",
    "model = sm.OLS(y, X).fit()\n",
    "predictions = model.predict(X)\n",
    "\n",
    "model.summary()"
   ]
  },
  {
   "cell_type": "code",
   "execution_count": 177,
   "metadata": {},
   "outputs": [
    {
     "data": {
      "text/plain": [
       "Espe.vida            0.000772\n",
       "Apo.social           7.782039\n",
       "liber deciciones    -0.101942\n",
       "Percep corrupcion   -1.097592\n",
       "dtype: float64"
      ]
     },
     "execution_count": 177,
     "metadata": {},
     "output_type": "execute_result"
    }
   ],
   "source": [
    "model.params   # coeficientes"
   ]
  },
  {
   "cell_type": "code",
   "execution_count": 178,
   "metadata": {},
   "outputs": [
    {
     "data": {
      "text/html": [
       "<table class=\"simpletable\">\n",
       "<caption>OLS Regression Results</caption>\n",
       "<tr>\n",
       "  <th>Dep. Variable:</th>    <td>Puntuacion de felicidad</td> <th>  R-squared:         </th> <td>   0.996</td> \n",
       "</tr>\n",
       "<tr>\n",
       "  <th>Model:</th>                      <td>OLS</td>           <th>  Adj. R-squared:    </th> <td>   0.996</td> \n",
       "</tr>\n",
       "<tr>\n",
       "  <th>Method:</th>                <td>Least Squares</td>      <th>  F-statistic:       </th> <td>   9351.</td> \n",
       "</tr>\n",
       "<tr>\n",
       "  <th>Date:</th>                <td>Fri, 02 Nov 2018</td>     <th>  Prob (F-statistic):</th> <td>7.33e-170</td>\n",
       "</tr>\n",
       "<tr>\n",
       "  <th>Time:</th>                    <td>20:37:48</td>         <th>  Log-Likelihood:    </th> <td> -47.985</td> \n",
       "</tr>\n",
       "<tr>\n",
       "  <th>No. Observations:</th>         <td>   145</td>          <th>  AIC:               </th> <td>   104.0</td> \n",
       "</tr>\n",
       "<tr>\n",
       "  <th>Df Residuals:</th>             <td>   141</td>          <th>  BIC:               </th> <td>   115.9</td> \n",
       "</tr>\n",
       "<tr>\n",
       "  <th>Df Model:</th>                 <td>     4</td>          <th>                     </th>     <td> </td>    \n",
       "</tr>\n",
       "<tr>\n",
       "  <th>Covariance Type:</th>         <td>nonrobust</td>        <th>                     </th>     <td> </td>    \n",
       "</tr>\n",
       "</table>\n",
       "<table class=\"simpletable\">\n",
       "<tr>\n",
       "          <td></td>             <th>coef</th>     <th>std err</th>      <th>t</th>      <th>P>|t|</th>  <th>[0.025</th>    <th>0.975]</th>  \n",
       "</tr>\n",
       "<tr>\n",
       "  <th>Espe.vida</th>         <td>    0.0008</td> <td>    0.004</td> <td>    0.181</td> <td> 0.857</td> <td>   -0.008</td> <td>    0.009</td>\n",
       "</tr>\n",
       "<tr>\n",
       "  <th>Apo.social</th>        <td>    7.7820</td> <td>    0.324</td> <td>   24.006</td> <td> 0.000</td> <td>    7.141</td> <td>    8.423</td>\n",
       "</tr>\n",
       "<tr>\n",
       "  <th>liber deciciones</th>  <td>   -0.1019</td> <td>    0.188</td> <td>   -0.542</td> <td> 0.589</td> <td>   -0.474</td> <td>    0.270</td>\n",
       "</tr>\n",
       "<tr>\n",
       "  <th>Percep corrupcion</th> <td>   -1.0976</td> <td>    0.127</td> <td>   -8.662</td> <td> 0.000</td> <td>   -1.348</td> <td>   -0.847</td>\n",
       "</tr>\n",
       "</table>\n",
       "<table class=\"simpletable\">\n",
       "<tr>\n",
       "  <th>Omnibus:</th>       <td>43.157</td> <th>  Durbin-Watson:     </th> <td>   0.577</td>\n",
       "</tr>\n",
       "<tr>\n",
       "  <th>Prob(Omnibus):</th> <td> 0.000</td> <th>  Jarque-Bera (JB):  </th> <td> 113.727</td>\n",
       "</tr>\n",
       "<tr>\n",
       "  <th>Skew:</th>          <td> 1.179</td> <th>  Prob(JB):          </th> <td>2.02e-25</td>\n",
       "</tr>\n",
       "<tr>\n",
       "  <th>Kurtosis:</th>      <td> 6.642</td> <th>  Cond. No.          </th> <td>    736.</td>\n",
       "</tr>\n",
       "</table><br/><br/>Warnings:<br/>[1] Standard Errors assume that the covariance matrix of the errors is correctly specified."
      ],
      "text/plain": [
       "<class 'statsmodels.iolib.summary.Summary'>\n",
       "\"\"\"\n",
       "                               OLS Regression Results                              \n",
       "===================================================================================\n",
       "Dep. Variable:     Puntuacion de felicidad   R-squared:                       0.996\n",
       "Model:                                 OLS   Adj. R-squared:                  0.996\n",
       "Method:                      Least Squares   F-statistic:                     9351.\n",
       "Date:                     Fri, 02 Nov 2018   Prob (F-statistic):          7.33e-170\n",
       "Time:                             20:37:48   Log-Likelihood:                -47.985\n",
       "No. Observations:                      145   AIC:                             104.0\n",
       "Df Residuals:                          141   BIC:                             115.9\n",
       "Df Model:                                4                                         \n",
       "Covariance Type:                 nonrobust                                         \n",
       "=====================================================================================\n",
       "                        coef    std err          t      P>|t|      [0.025      0.975]\n",
       "-------------------------------------------------------------------------------------\n",
       "Espe.vida             0.0008      0.004      0.181      0.857      -0.008       0.009\n",
       "Apo.social            7.7820      0.324     24.006      0.000       7.141       8.423\n",
       "liber deciciones     -0.1019      0.188     -0.542      0.589      -0.474       0.270\n",
       "Percep corrupcion    -1.0976      0.127     -8.662      0.000      -1.348      -0.847\n",
       "==============================================================================\n",
       "Omnibus:                       43.157   Durbin-Watson:                   0.577\n",
       "Prob(Omnibus):                  0.000   Jarque-Bera (JB):              113.727\n",
       "Skew:                           1.179   Prob(JB):                     2.02e-25\n",
       "Kurtosis:                       6.642   Cond. No.                         736.\n",
       "==============================================================================\n",
       "\n",
       "Warnings:\n",
       "[1] Standard Errors assume that the covariance matrix of the errors is correctly specified.\n",
       "\"\"\""
      ]
     },
     "execution_count": 178,
     "metadata": {},
     "output_type": "execute_result"
    }
   ],
   "source": [
    "import pandas as pd\n",
    "df = pd.read_csv('multiple.csv', encoding = 'utf8')\n",
    "model.summary()"
   ]
  },
  {
   "cell_type": "code",
   "execution_count": 179,
   "metadata": {},
   "outputs": [
    {
     "data": {
      "text/html": [
       "<div>\n",
       "<style scoped>\n",
       "    .dataframe tbody tr th:only-of-type {\n",
       "        vertical-align: middle;\n",
       "    }\n",
       "\n",
       "    .dataframe tbody tr th {\n",
       "        vertical-align: top;\n",
       "    }\n",
       "\n",
       "    .dataframe thead th {\n",
       "        text-align: right;\n",
       "    }\n",
       "</style>\n",
       "<table border=\"1\" class=\"dataframe\">\n",
       "  <thead>\n",
       "    <tr style=\"text-align: right;\">\n",
       "      <th></th>\n",
       "      <th>Espe.vida</th>\n",
       "      <th>Apo.social</th>\n",
       "      <th>liber deciciones</th>\n",
       "      <th>Percep corrupcion</th>\n",
       "      <th>Puntuacion de felicidad</th>\n",
       "    </tr>\n",
       "  </thead>\n",
       "  <tbody>\n",
       "    <tr>\n",
       "      <th>Espe.vida</th>\n",
       "      <td>1.000000</td>\n",
       "      <td>0.690605</td>\n",
       "      <td>0.270283</td>\n",
       "      <td>-0.295014</td>\n",
       "      <td>0.703097</td>\n",
       "    </tr>\n",
       "    <tr>\n",
       "      <th>Apo.social</th>\n",
       "      <td>0.690605</td>\n",
       "      <td>1.000000</td>\n",
       "      <td>0.371297</td>\n",
       "      <td>-0.228257</td>\n",
       "      <td>0.947080</td>\n",
       "    </tr>\n",
       "    <tr>\n",
       "      <th>liber deciciones</th>\n",
       "      <td>0.270283</td>\n",
       "      <td>0.371297</td>\n",
       "      <td>1.000000</td>\n",
       "      <td>-0.426858</td>\n",
       "      <td>0.414136</td>\n",
       "    </tr>\n",
       "    <tr>\n",
       "      <th>Percep corrupcion</th>\n",
       "      <td>-0.295014</td>\n",
       "      <td>-0.228257</td>\n",
       "      <td>-0.426858</td>\n",
       "      <td>1.000000</td>\n",
       "      <td>-0.343291</td>\n",
       "    </tr>\n",
       "    <tr>\n",
       "      <th>Puntuacion de felicidad</th>\n",
       "      <td>0.703097</td>\n",
       "      <td>0.947080</td>\n",
       "      <td>0.414136</td>\n",
       "      <td>-0.343291</td>\n",
       "      <td>1.000000</td>\n",
       "    </tr>\n",
       "  </tbody>\n",
       "</table>\n",
       "</div>"
      ],
      "text/plain": [
       "                         Espe.vida  Apo.social  liber deciciones  \\\n",
       "Espe.vida                 1.000000    0.690605          0.270283   \n",
       "Apo.social                0.690605    1.000000          0.371297   \n",
       "liber deciciones          0.270283    0.371297          1.000000   \n",
       "Percep corrupcion        -0.295014   -0.228257         -0.426858   \n",
       "Puntuacion de felicidad   0.703097    0.947080          0.414136   \n",
       "\n",
       "                         Percep corrupcion  Puntuacion de felicidad  \n",
       "Espe.vida                        -0.295014                 0.703097  \n",
       "Apo.social                       -0.228257                 0.947080  \n",
       "liber deciciones                 -0.426858                 0.414136  \n",
       "Percep corrupcion                 1.000000                -0.343291  \n",
       "Puntuacion de felicidad          -0.343291                 1.000000  "
      ]
     },
     "execution_count": 179,
     "metadata": {},
     "output_type": "execute_result"
    }
   ],
   "source": [
    "df.corr()"
   ]
  },
  {
   "cell_type": "markdown",
   "metadata": {},
   "source": [
    "- Supuestos "
   ]
  },
  {
   "cell_type": "code",
   "execution_count": null,
   "metadata": {},
   "outputs": [],
   "source": []
  },
  {
   "cell_type": "code",
   "execution_count": null,
   "metadata": {},
   "outputs": [],
   "source": []
  }
 ],
 "metadata": {
  "kernelspec": {
   "display_name": "Python 3",
   "language": "python",
   "name": "python3"
  },
  "language_info": {
   "codemirror_mode": {
    "name": "ipython",
    "version": 3
   },
   "file_extension": ".py",
   "mimetype": "text/x-python",
   "name": "python",
   "nbconvert_exporter": "python",
   "pygments_lexer": "ipython3",
   "version": "3.6.5"
  }
 },
 "nbformat": 4,
 "nbformat_minor": 2
}
