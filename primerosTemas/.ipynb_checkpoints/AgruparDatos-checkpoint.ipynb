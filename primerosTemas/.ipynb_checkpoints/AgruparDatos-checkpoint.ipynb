{
 "cells": [
  {
   "cell_type": "code",
   "execution_count": 2,
   "metadata": {},
   "outputs": [
    {
     "data": {
      "text/html": [
       "<div>\n",
       "<style scoped>\n",
       "    .dataframe tbody tr th:only-of-type {\n",
       "        vertical-align: middle;\n",
       "    }\n",
       "\n",
       "    .dataframe tbody tr th {\n",
       "        vertical-align: top;\n",
       "    }\n",
       "\n",
       "    .dataframe thead tr th {\n",
       "        text-align: left;\n",
       "    }\n",
       "\n",
       "    .dataframe thead tr:last-of-type th {\n",
       "        text-align: right;\n",
       "    }\n",
       "</style>\n",
       "<table border=\"1\" class=\"dataframe\">\n",
       "  <thead>\n",
       "    <tr>\n",
       "      <th></th>\n",
       "      <th colspan=\"8\" halign=\"left\">Crecimiento</th>\n",
       "    </tr>\n",
       "    <tr>\n",
       "      <th></th>\n",
       "      <th>count</th>\n",
       "      <th>mean</th>\n",
       "      <th>std</th>\n",
       "      <th>min</th>\n",
       "      <th>25%</th>\n",
       "      <th>50%</th>\n",
       "      <th>75%</th>\n",
       "      <th>max</th>\n",
       "    </tr>\n",
       "    <tr>\n",
       "      <th>Fertilizante</th>\n",
       "      <th></th>\n",
       "      <th></th>\n",
       "      <th></th>\n",
       "      <th></th>\n",
       "      <th></th>\n",
       "      <th></th>\n",
       "      <th></th>\n",
       "      <th></th>\n",
       "    </tr>\n",
       "  </thead>\n",
       "  <tbody>\n",
       "    <tr>\n",
       "      <th>Organico</th>\n",
       "      <td>7.0</td>\n",
       "      <td>78.857143</td>\n",
       "      <td>4.180453</td>\n",
       "      <td>74.0</td>\n",
       "      <td>75.5</td>\n",
       "      <td>78.0</td>\n",
       "      <td>82.0</td>\n",
       "      <td>85.0</td>\n",
       "    </tr>\n",
       "    <tr>\n",
       "      <th>Quimico</th>\n",
       "      <td>7.0</td>\n",
       "      <td>61.428571</td>\n",
       "      <td>4.157609</td>\n",
       "      <td>55.0</td>\n",
       "      <td>59.0</td>\n",
       "      <td>63.0</td>\n",
       "      <td>63.5</td>\n",
       "      <td>67.0</td>\n",
       "    </tr>\n",
       "  </tbody>\n",
       "</table>\n",
       "</div>"
      ],
      "text/plain": [
       "             Crecimiento                                                   \n",
       "                   count       mean       std   min   25%   50%   75%   max\n",
       "Fertilizante                                                               \n",
       "Organico             7.0  78.857143  4.180453  74.0  75.5  78.0  82.0  85.0\n",
       "Quimico              7.0  61.428571  4.157609  55.0  59.0  63.0  63.5  67.0"
      ]
     },
     "execution_count": 2,
     "metadata": {},
     "output_type": "execute_result"
    }
   ],
   "source": [
    "import pandas as pd\n",
    "df=pd.read_csv('tratamientoFrijoles.csv')\n",
    "g = df.groupby('Fertilizante')\n",
    "g.describe()"
   ]
  },
  {
   "cell_type": "code",
   "execution_count": 3,
   "metadata": {},
   "outputs": [
    {
     "data": {
      "text/plain": [
       "<Figure size 640x480 with 1 Axes>"
      ]
     },
     "metadata": {},
     "output_type": "display_data"
    }
   ],
   "source": [
    "import pandas as pd\n",
    "import matplotlib.pyplot as plt\n",
    "\n",
    "class Graficos:\n",
    "    \n",
    "    def __init__(self, archivo, colData, colAgrup):\n",
    "        self.df = pd.read_csv(archivo)\n",
    "        self.colData = colData\n",
    "        self.colAgrup = colAgrup\n",
    "        \n",
    "    def drawCajasBigotes(self):\n",
    "        geterGruop = []\n",
    "        \n",
    "        g = self.df.groupby(self.colAgrup)\n",
    "        for datoUnico in self.df[self.colAgrup].unique():\n",
    "            geterGruop.append(g.get_group(datoUnico)[self.colData].values)\n",
    "\n",
    "        plt.boxplot(geterGruop)\n",
    "        plt.show()\n",
    "        return plt\n",
    "\n",
    "x = Graficos(\"pruebas de hipotesis.csv\", 'muestra', 'bascula')\n",
    "x.drawCajasBigotes().show()"
   ]
  },
  {
   "cell_type": "code",
   "execution_count": null,
   "metadata": {},
   "outputs": [],
   "source": []
  }
 ],
 "metadata": {
  "kernelspec": {
   "display_name": "Python 3",
   "language": "python",
   "name": "python3"
  },
  "language_info": {
   "codemirror_mode": {
    "name": "ipython",
    "version": 3
   },
   "file_extension": ".py",
   "mimetype": "text/x-python",
   "name": "python",
   "nbconvert_exporter": "python",
   "pygments_lexer": "ipython3",
   "version": "3.6.5"
  }
 },
 "nbformat": 4,
 "nbformat_minor": 2
}
