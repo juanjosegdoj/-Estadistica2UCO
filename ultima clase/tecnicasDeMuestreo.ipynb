{
 "cells": [
  {
   "cell_type": "markdown",
   "metadata": {},
   "source": [
    "# Técnicas de muestreo"
   ]
  },
  {
   "cell_type": "markdown",
   "metadata": {},
   "source": [
    "Población: ¿Le preguntaría a todas las personas de Colombia si cambiarían de windows a Ubuntu?"
   ]
  },
  {
   "cell_type": "markdown",
   "metadata": {},
   "source": [
    "** R/: ** ¡No!, Es imposible preguntarle a todas las personas, sin embargo, existenten otras alternativas como una muestra **representativa** para hacer el estudio."
   ]
  },
  {
   "cell_type": "markdown",
   "metadata": {},
   "source": [
    "¿Cómo se que una encuesta es confiable? % Confianza y % error.\n",
    "\n",
    "Además es importante en el caso de un país dividir este país por regiones y seleccionar los individuos por cada región."
   ]
  },
  {
   "cell_type": "markdown",
   "metadata": {},
   "source": [
    "$ U  = x \\pm z_{α/2}*\\frac{S}{√n} $"
   ]
  },
  {
   "cell_type": "markdown",
   "metadata": {},
   "source": [
    "$ U  = x \\pm z_{α/2}*\\frac{S}{√n} $   "
   ]
  },
  {
   "cell_type": "markdown",
   "metadata": {},
   "source": [
    "$   n = {z_{α/2}}^2 * \\frac{S^{2}}{E^2} $"
   ]
  },
  {
   "cell_type": "markdown",
   "metadata": {},
   "source": [
    "E: Error se calcula a partir de la media o tiene las mismas unidades de la media."
   ]
  },
  {
   "cell_type": "markdown",
   "metadata": {},
   "source": [
    "$ E = Error * X  $"
   ]
  },
  {
   "cell_type": "markdown",
   "metadata": {},
   "source": [
    "$ s^{2} $ varianza esperada de los diferentes niveles de los estratos"
   ]
  },
  {
   "cell_type": "markdown",
   "metadata": {},
   "source": [
    "#### Error"
   ]
  },
  {
   "cell_type": "markdown",
   "metadata": {},
   "source": [
    "$ P = (1-p) \\pm z_{α/2} \\sqrt[2] {p*\\frac{q}{n}} $"
   ]
  },
  {
   "cell_type": "markdown",
   "metadata": {},
   "source": [
    "$ n = z_{α/2} \\frac{{p*q}^2}{E^{2}} $"
   ]
  },
  {
   "cell_type": "markdown",
   "metadata": {},
   "source": [
    "**1. Muestreo Aleatorio Simple** Es un muestreo que se diseña para seleccionar n individuos de una población de N donde a cada individuo se le da la misma oportunidad de ser seleccionado, además cada individuo se selecciona al azar."
   ]
  },
  {
   "cell_type": "markdown",
   "metadata": {},
   "source": [
    "**2. Modelo Aleatorio estratificado:** Consiste en dividir la población por subgrupos, dichos subgrupos representan la variablidad observada en la poblacion (ejm: En un país por sexo, región, estrato, etc)"
   ]
  },
  {
   "cell_type": "markdown",
   "metadata": {},
   "source": [
    "¿Cuándo se usa un muestreo aleatorio estratificado?\n",
    "- Mejorar el error\n",
    "- Para obtener confianzas más elevadas\n",
    "- Para identificar interacciones entre los estratos, "
   ]
  },
  {
   "cell_type": "markdown",
   "metadata": {},
   "source": [
    "**3.  Muestreo por conglomerados:** Identificar las minorias que me interesa estudiar y seleccionar a conveniencia (sin seguir ningún rigor estadístico) el número de sujestos que voy a analizar."
   ]
  },
  {
   "cell_type": "markdown",
   "metadata": {},
   "source": [
    " $ nreal =  \\frac{Z^{2}.p.q.N}{N.E^{2} + Z^{2}.p.q} f(x)$   Si estoy indagando por una proporción"
   ]
  },
  {
   "cell_type": "markdown",
   "metadata": {},
   "source": [
    "Donde, \n",
    "- Z: factor probabilistico determinado por el nivel de confianza\n",
    "- p: Proporcion a favor"
   ]
  },
  {
   "cell_type": "markdown",
   "metadata": {},
   "source": [
    " $ nreal = \\frac{N}{ 1 + \\frac{N}{no} } $ corrección muestral\n"
   ]
  },
  {
   "cell_type": "markdown",
   "metadata": {},
   "source": [
    "### Cálculo general de la Muestra si mi Variable de Respuesta no es una proporción"
   ]
  },
  {
   "cell_type": "markdown",
   "metadata": {},
   "source": [
    " $ nreal = \\frac{N}{ 1 + \\frac{N}{no} } $"
   ]
  },
  {
   "cell_type": "markdown",
   "metadata": {},
   "source": [
    "\n",
    "$ no = \\frac{\\sum_{i=1}^{n}w_{i}*{S_{i}}^2}{\\frac{E^2}{{Z_{α/2}}^2}}$"
   ]
  },
  {
   "cell_type": "markdown",
   "metadata": {},
   "source": [
    "# Ejemplo de aplicación utilizando los dos métodos"
   ]
  },
  {
   "cell_type": "markdown",
   "metadata": {},
   "source": [
    "Determine o proponga una muestra estratificada por Ciudad adecuada para un estudio ambiental sobre la calidad de vida de los habitantes que residen  en sectores industriales de las ciudades más importantes de Colombia. A continuación se muestra un estudio del DANE donde se especifican la cantidad de habitantes que viven en barrios industriales de las ciudades:\n",
    "\n",
    "(Realice este ejercicio utilizando la fórmula de las proporciones y la de las desviaciones estándart).\n"
   ]
  },
  {
   "cell_type": "code",
   "execution_count": 12,
   "metadata": {},
   "outputs": [
    {
     "data": {
      "text/html": [
       "<div>\n",
       "<style scoped>\n",
       "    .dataframe tbody tr th:only-of-type {\n",
       "        vertical-align: middle;\n",
       "    }\n",
       "\n",
       "    .dataframe tbody tr th {\n",
       "        vertical-align: top;\n",
       "    }\n",
       "\n",
       "    .dataframe thead th {\n",
       "        text-align: right;\n",
       "    }\n",
       "</style>\n",
       "<table border=\"1\" class=\"dataframe\">\n",
       "  <thead>\n",
       "    <tr style=\"text-align: right;\">\n",
       "      <th></th>\n",
       "      <th>EDAD_CIUDAD</th>\n",
       "      <th>Cartagena</th>\n",
       "      <th>Medellín</th>\n",
       "      <th>La Guajira</th>\n",
       "      <th>Bogota</th>\n",
       "      <th>Cali</th>\n",
       "    </tr>\n",
       "  </thead>\n",
       "  <tbody>\n",
       "    <tr>\n",
       "      <th>0</th>\n",
       "      <td>Mayores 25 años</td>\n",
       "      <td>125000</td>\n",
       "      <td>278500</td>\n",
       "      <td>120000</td>\n",
       "      <td>250000</td>\n",
       "      <td>95000</td>\n",
       "    </tr>\n",
       "    <tr>\n",
       "      <th>1</th>\n",
       "      <td>Entre 26-36 años</td>\n",
       "      <td>95000</td>\n",
       "      <td>50000</td>\n",
       "      <td>25000</td>\n",
       "      <td>24500</td>\n",
       "      <td>35000</td>\n",
       "    </tr>\n",
       "    <tr>\n",
       "      <th>2</th>\n",
       "      <td>Entre 37-47 años</td>\n",
       "      <td>255000</td>\n",
       "      <td>350000</td>\n",
       "      <td>175000</td>\n",
       "      <td>550000</td>\n",
       "      <td>120000</td>\n",
       "    </tr>\n",
       "    <tr>\n",
       "      <th>3</th>\n",
       "      <td>Más de 48 años</td>\n",
       "      <td>150000</td>\n",
       "      <td>250000</td>\n",
       "      <td>160000</td>\n",
       "      <td>375000</td>\n",
       "      <td>165000</td>\n",
       "    </tr>\n",
       "  </tbody>\n",
       "</table>\n",
       "</div>"
      ],
      "text/plain": [
       "        EDAD_CIUDAD  Cartagena  Medellín  La Guajira  Bogota    Cali\n",
       "0   Mayores 25 años     125000    278500      120000  250000   95000\n",
       "1  Entre 26-36 años      95000     50000       25000   24500   35000\n",
       "2  Entre 37-47 años     255000    350000      175000  550000  120000\n",
       "3    Más de 48 años     150000    250000      160000  375000  165000"
      ]
     },
     "execution_count": 12,
     "metadata": {},
     "output_type": "execute_result"
    }
   ],
   "source": [
    "import pandas as pd\n",
    "import numpy as np\n",
    "df = pd.read_csv('datos.csv', encoding='latin-1') \n",
    "df"
   ]
  },
  {
   "cell_type": "code",
   "execution_count": null,
   "metadata": {},
   "outputs": [],
   "source": [
    "from scipy.stats import norm\n",
    "norm.ppf(0.025)"
   ]
  },
  {
   "cell_type": "code",
   "execution_count": null,
   "metadata": {},
   "outputs": [],
   "source": [
    "df"
   ]
  },
  {
   "cell_type": "code",
   "execution_count": null,
   "metadata": {},
   "outputs": [],
   "source": []
  }
 ],
 "metadata": {
  "kernelspec": {
   "display_name": "Python 3",
   "language": "python",
   "name": "python3"
  },
  "language_info": {
   "codemirror_mode": {
    "name": "ipython",
    "version": 3
   },
   "file_extension": ".py",
   "mimetype": "text/x-python",
   "name": "python",
   "nbconvert_exporter": "python",
   "pygments_lexer": "ipython3",
   "version": "3.6.5"
  }
 },
 "nbformat": 4,
 "nbformat_minor": 2
}
